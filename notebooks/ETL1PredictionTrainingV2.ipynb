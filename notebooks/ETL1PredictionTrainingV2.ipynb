{
 "cells": [
  {
   "cell_type": "code",
   "execution_count": 1,
   "id": "43f960a6",
   "metadata": {},
   "outputs": [],
   "source": [
    "import pytz\n",
    "import time\n",
    "from datetime import datetime\n",
    "import numpy as np\n",
    "import pandas as pd\n",
    "import lightgbm as lgb\n",
    "from sklearn.multioutput import MultiOutputRegressor\n",
    "\n",
    "\n",
    "import matplotlib.pyplot as plt"
   ]
  },
  {
   "cell_type": "code",
   "execution_count": 2,
   "id": "4b98b79d",
   "metadata": {},
   "outputs": [],
   "source": [
    "%matplotlib inline"
   ]
  },
  {
   "cell_type": "code",
   "execution_count": 3,
   "id": "4d222c4c",
   "metadata": {},
   "outputs": [],
   "source": [
    "#### Load data"
   ]
  },
  {
   "cell_type": "code",
   "execution_count": 4,
   "id": "b54f4bb6",
   "metadata": {},
   "outputs": [],
   "source": [
    "data_dir = '../data/'"
   ]
  },
  {
   "cell_type": "code",
   "execution_count": 5,
   "id": "ca4dd553",
   "metadata": {},
   "outputs": [],
   "source": [
    "files = [\n",
    "    data_dir + 'etl_s1_1672118400_1672803840.parquet',\n",
    "    #data_dir + 'etl_s1_1671504000_1627118400.parquet',\n",
    "]"
   ]
  },
  {
   "cell_type": "code",
   "execution_count": 6,
   "id": "0c2899ec",
   "metadata": {},
   "outputs": [],
   "source": [
    "data = pd.read_parquet(files[0])"
   ]
  },
  {
   "cell_type": "code",
   "execution_count": 7,
   "id": "fa51fef7",
   "metadata": {},
   "outputs": [
    {
     "data": {
      "text/plain": [
       "643476"
      ]
     },
     "execution_count": 7,
     "metadata": {},
     "output_type": "execute_result"
    }
   ],
   "source": [
    "rowcount = data.shape[0]\n",
    "rowcount"
   ]
  },
  {
   "cell_type": "code",
   "execution_count": 8,
   "id": "97c1c95c",
   "metadata": {},
   "outputs": [],
   "source": [
    "#### Sort Data as timeseries"
   ]
  },
  {
   "cell_type": "code",
   "execution_count": 9,
   "id": "17ae1e02",
   "metadata": {},
   "outputs": [],
   "source": [
    "timestamp_format = '%Y-%m-%dT%H:%M:%S.%f %Z'"
   ]
  },
  {
   "cell_type": "code",
   "execution_count": 10,
   "id": "05563ab4",
   "metadata": {},
   "outputs": [],
   "source": [
    "def sequence_epoch(row):\n",
    "    utc = pytz.timezone('UTC')\n",
    "    return int(datetime.strptime(row['sequence_time'], timestamp_format).timestamp())"
   ]
  },
  {
   "cell_type": "code",
   "execution_count": null,
   "id": "7311186d",
   "metadata": {},
   "outputs": [],
   "source": [
    "data['sequence_epoch'] = data.apply(lambda row: sequence_epoch(row), axis=1)"
   ]
  },
  {
   "cell_type": "code",
   "execution_count": null,
   "id": "51d36015",
   "metadata": {},
   "outputs": [],
   "source": [
    "data = data.set_index('sequence_epoch')"
   ]
  },
  {
   "cell_type": "code",
   "execution_count": null,
   "id": "5ed85e73",
   "metadata": {},
   "outputs": [],
   "source": [
    "data.sort_index(inplace=True)"
   ]
  },
  {
   "cell_type": "code",
   "execution_count": null,
   "id": "508df67a",
   "metadata": {},
   "outputs": [],
   "source": [
    "(data.index[1:]-data.index[:-1]).value_counts().head()"
   ]
  },
  {
   "cell_type": "code",
   "execution_count": null,
   "id": "f2025a1e",
   "metadata": {},
   "outputs": [],
   "source": [
    "#### Timeseries Training/Testing Split"
   ]
  },
  {
   "cell_type": "code",
   "execution_count": null,
   "id": "120493b9",
   "metadata": {},
   "outputs": [],
   "source": []
  },
  {
   "cell_type": "code",
   "execution_count": null,
   "id": "0fef7157",
   "metadata": {},
   "outputs": [],
   "source": [
    "#### Dropping sequence_time column"
   ]
  },
  {
   "cell_type": "code",
   "execution_count": null,
   "id": "8819cf81",
   "metadata": {},
   "outputs": [],
   "source": []
  },
  {
   "cell_type": "code",
   "execution_count": null,
   "id": "0a51ad3c",
   "metadata": {},
   "outputs": [],
   "source": [
    "#### Producing Target Columns"
   ]
  },
  {
   "cell_type": "code",
   "execution_count": null,
   "id": "d2c33606",
   "metadata": {},
   "outputs": [],
   "source": []
  },
  {
   "cell_type": "code",
   "execution_count": null,
   "id": "d769ac49",
   "metadata": {},
   "outputs": [],
   "source": [
    "#### Input/Output data split, drop empty rows"
   ]
  },
  {
   "cell_type": "code",
   "execution_count": null,
   "id": "08a62c35",
   "metadata": {},
   "outputs": [],
   "source": []
  },
  {
   "cell_type": "code",
   "execution_count": null,
   "id": "432fe297",
   "metadata": {},
   "outputs": [],
   "source": [
    "#### "
   ]
  }
 ],
 "metadata": {
  "kernelspec": {
   "display_name": "Python 3 (ipykernel)",
   "language": "python",
   "name": "python3"
  },
  "language_info": {
   "codemirror_mode": {
    "name": "ipython",
    "version": 3
   },
   "file_extension": ".py",
   "mimetype": "text/x-python",
   "name": "python",
   "nbconvert_exporter": "python",
   "pygments_lexer": "ipython3",
   "version": "3.10.8"
  }
 },
 "nbformat": 4,
 "nbformat_minor": 5
}
