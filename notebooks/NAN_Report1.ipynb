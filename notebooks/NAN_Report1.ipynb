{
 "cells": [
  {
   "cell_type": "code",
   "execution_count": 1,
   "metadata": {},
   "outputs": [],
   "source": [
    "import glob\n",
    "import re\n",
    "import pandas as pd"
   ]
  },
  {
   "cell_type": "code",
   "execution_count": 2,
   "metadata": {},
   "outputs": [],
   "source": [
    "data_dir = '../data/'"
   ]
  },
  {
   "cell_type": "code",
   "execution_count": 3,
   "metadata": {},
   "outputs": [
    {
     "data": {
      "text/plain": [
       "['../data/etl_s2_v2_1680419520_1680590400.parquet',\n",
       " '../data/etl_s2_v2_1680112320_1680265920.parquet',\n",
       " '../data/etl_s2_v2_1679805120_1679958720.parquet',\n",
       " '../data/etl_s2_v2_1679958720_1680112320.parquet',\n",
       " '../data/etl_s2_v2_1680590400_1680744000.parquet',\n",
       " '../data/etl_s2_v2_1679178240_1679331840.parquet',\n",
       " '../data/etl_s2_v2_1680265920_1680419520.parquet',\n",
       " '../data/etl_s2_v2_1679485440_1679651520.parquet',\n",
       " '../data/etl_s2_v2_1679651520_1679805120.parquet',\n",
       " '../data/etl_s2_v2_1679331840_1679485440.parquet']"
      ]
     },
     "execution_count": 3,
     "metadata": {},
     "output_type": "execute_result"
    }
   ],
   "source": [
    "files = glob.glob(data_dir + 'etl_s2_v2_*.parquet')\n",
    "files"
   ]
  },
  {
   "cell_type": "code",
   "execution_count": 4,
   "metadata": {},
   "outputs": [],
   "source": [
    "tickers = ['BTC-USD','ETH-USD','MKR-USD','BCH-USD','COMP-USD','AAVE-USD','UNI-USD','CRV-USD','BAL-USD','LTC-USD','ADA-USD','XLM-USD','ALGO-USD','ZEC-USD','DOGE-USD','SHIB-USD','SUSHI-USD','EOS-USD','ETC-USD','WBTC-USD']"
   ]
  },
  {
   "cell_type": "code",
   "execution_count": 5,
   "metadata": {},
   "outputs": [],
   "source": [
    "data = pd.read_parquet(files[0])\n",
    "columns = data.columns"
   ]
  },
  {
   "cell_type": "code",
   "execution_count": 6,
   "metadata": {},
   "outputs": [],
   "source": [
    "def get_ticker_columns(ticker, columns, const_columns):\n",
    "    cols = [col for col in columns if col.startswith(ticker) or col in const_columns]\n",
    "    return cols"
   ]
  },
  {
   "cell_type": "code",
   "execution_count": 7,
   "metadata": {},
   "outputs": [],
   "source": [
    "def get_column_field(column, const_columns):\n",
    "    if column in const_columns:\n",
    "        return column\n",
    "    m = re.match(r'[a-zA-Z-]+:(.*)$', column)\n",
    "    return m.group(1)"
   ]
  },
  {
   "cell_type": "code",
   "execution_count": 8,
   "metadata": {},
   "outputs": [],
   "source": [
    "def get_all_data(files, columns, tickers, const_columns):\n",
    "    all_tickers = []\n",
    "    for ticker in tickers:\n",
    "        tcolumns = get_ticker_columns(ticker, columns, const_columns)\n",
    "        colmap = {col : get_column_field(col, const_columns) for col in tcolumns}\n",
    "        dfs = []\n",
    "        for file in files:\n",
    "            df = pd.read_parquet(file, columns=tcolumns)\n",
    "            df = df.rename(columns=colmap)\n",
    "            dfs.append(df)\n",
    "        df = pd.concat(dfs)\n",
    "        df.sort_index(inplace=True)\n",
    "        df['ticker'] = ticker\n",
    "        all_tickers.append(df)\n",
    "    out = pd.concat(all_tickers)\n",
    "    out.sort_index(inplace=True)\n",
    "    return out"
   ]
  },
  {
   "cell_type": "code",
   "execution_count": 9,
   "metadata": {},
   "outputs": [],
   "source": [
    "data = get_all_data(files[:6], columns, tickers, ['book_mean_return_27', 'sequence_interval_s'])"
   ]
  },
  {
   "cell_type": "code",
   "execution_count": 10,
   "metadata": {},
   "outputs": [
    {
     "data": {
      "text/plain": [
       "(18361680, 711)"
      ]
     },
     "execution_count": 10,
     "metadata": {},
     "output_type": "execute_result"
    }
   ],
   "source": [
    "data.shape"
   ]
  },
  {
   "cell_type": "code",
   "execution_count": 11,
   "metadata": {},
   "outputs": [],
   "source": [
    "row_count = data.shape[0]"
   ]
  },
  {
   "cell_type": "code",
   "execution_count": 12,
   "metadata": {},
   "outputs": [],
   "source": [
    "nas = data.isna().sum()"
   ]
  },
  {
   "cell_type": "code",
   "execution_count": 13,
   "metadata": {},
   "outputs": [
    {
     "data": {
      "text/plain": [
       "1305482105"
      ]
     },
     "execution_count": 13,
     "metadata": {},
     "output_type": "execute_result"
    }
   ],
   "source": [
    "nas.sum()"
   ]
  },
  {
   "cell_type": "code",
   "execution_count": 16,
   "metadata": {},
   "outputs": [
    {
     "name": "stdout",
     "output_type": "stream",
     "text": [
      "bid_avg_tick_324skew: 8273175\n",
      "bid_avg_tick_648kurt: 8273175\n",
      "bid_avg_tick_3skew: 8273175\n",
      "bid_avg_tick_9kurt: 8273175\n",
      "trade_price_slope_9: 12488249\n",
      "bid_avg_tick_960kurt: 8273175\n",
      "trade_price_slope_27: 8483323\n",
      "bid_avg_tick_81skew: 8273175\n",
      "bid_avg_tick_27kurt: 8273175\n",
      "trade_price_rmse_9: 12779680\n",
      "trade_size_9std: 9493132\n",
      "bid_avg_tick_960skew: 8273175\n",
      "bid_avg_tick_81kurt: 8273175\n",
      "trade_avg_price: 15597012\n",
      "trade_return: 15597023\n",
      "bid_avg_tick_3kurt: 8273175\n",
      "bid_avg_tick_9skew: 8273175\n",
      "bid_avg_tick_27skew: 8273175\n",
      "bid_avg_tick_162skew: 8273175\n",
      "bid_avg_tick_162kurt: 8273175\n",
      "bid_avg_tick_324kurt: 8273175\n",
      "bid_avg_tick_648skew: 8273175\n",
      "trade_avg_price_9avg: 9493132\n",
      "trade_volume_9std: 9493132\n",
      "trade_avg_price_9std: 9493132\n",
      "trade_return_9sum: 11850595\n",
      "trade_return_9std: 11850595\n",
      "trade_price_rmse_27: 8748741\n",
      "total book column count: 16\n",
      "total trade column count: 12\n"
     ]
    }
   ],
   "source": [
    "book_col_count = 0\n",
    "trade_col_count = 0\n",
    "for (count, name) in zip(nas, nas.index):\n",
    "    nan_percent = float(count) / row_count\n",
    "    if nan_percent > 0.45:\n",
    "        print(f\"{name}: {count}\")\n",
    "    if nan_percent > 0.45 and 'trade' not in name:\n",
    "        book_col_count += 1\n",
    "    if nan_percent > 0.45 and 'trade' in name:\n",
    "        trade_col_count += 1\n",
    "print(f\"total book column count: {book_col_count}\")\n",
    "print(f\"total trade column count: {trade_col_count}\")"
   ]
  },
  {
   "cell_type": "code",
   "execution_count": 21,
   "metadata": {},
   "outputs": [
    {
     "data": {
      "text/html": [
       "<div>\n",
       "<style scoped>\n",
       "    .dataframe tbody tr th:only-of-type {\n",
       "        vertical-align: middle;\n",
       "    }\n",
       "\n",
       "    .dataframe tbody tr th {\n",
       "        vertical-align: top;\n",
       "    }\n",
       "\n",
       "    .dataframe thead th {\n",
       "        text-align: right;\n",
       "    }\n",
       "</style>\n",
       "<table border=\"1\" class=\"dataframe\">\n",
       "  <thead>\n",
       "    <tr style=\"text-align: right;\">\n",
       "      <th></th>\n",
       "      <th>ticker</th>\n",
       "    </tr>\n",
       "    <tr>\n",
       "      <th>sequence_interval_s</th>\n",
       "      <th></th>\n",
       "    </tr>\n",
       "  </thead>\n",
       "  <tbody>\n",
       "    <tr>\n",
       "      <th>1</th>\n",
       "      <td>18357640</td>\n",
       "    </tr>\n",
       "    <tr>\n",
       "      <th>2</th>\n",
       "      <td>1940</td>\n",
       "    </tr>\n",
       "    <tr>\n",
       "      <th>3</th>\n",
       "      <td>520</td>\n",
       "    </tr>\n",
       "    <tr>\n",
       "      <th>4</th>\n",
       "      <td>280</td>\n",
       "    </tr>\n",
       "    <tr>\n",
       "      <th>5</th>\n",
       "      <td>200</td>\n",
       "    </tr>\n",
       "    <tr>\n",
       "      <th>6</th>\n",
       "      <td>100</td>\n",
       "    </tr>\n",
       "    <tr>\n",
       "      <th>7</th>\n",
       "      <td>80</td>\n",
       "    </tr>\n",
       "    <tr>\n",
       "      <th>8</th>\n",
       "      <td>20</td>\n",
       "    </tr>\n",
       "    <tr>\n",
       "      <th>9</th>\n",
       "      <td>40</td>\n",
       "    </tr>\n",
       "    <tr>\n",
       "      <th>10</th>\n",
       "      <td>20</td>\n",
       "    </tr>\n",
       "    <tr>\n",
       "      <th>11</th>\n",
       "      <td>20</td>\n",
       "    </tr>\n",
       "    <tr>\n",
       "      <th>12</th>\n",
       "      <td>40</td>\n",
       "    </tr>\n",
       "    <tr>\n",
       "      <th>13</th>\n",
       "      <td>20</td>\n",
       "    </tr>\n",
       "    <tr>\n",
       "      <th>14</th>\n",
       "      <td>60</td>\n",
       "    </tr>\n",
       "    <tr>\n",
       "      <th>15</th>\n",
       "      <td>40</td>\n",
       "    </tr>\n",
       "    <tr>\n",
       "      <th>16</th>\n",
       "      <td>20</td>\n",
       "    </tr>\n",
       "    <tr>\n",
       "      <th>17</th>\n",
       "      <td>40</td>\n",
       "    </tr>\n",
       "    <tr>\n",
       "      <th>20</th>\n",
       "      <td>60</td>\n",
       "    </tr>\n",
       "    <tr>\n",
       "      <th>53</th>\n",
       "      <td>60</td>\n",
       "    </tr>\n",
       "    <tr>\n",
       "      <th>57</th>\n",
       "      <td>20</td>\n",
       "    </tr>\n",
       "    <tr>\n",
       "      <th>58</th>\n",
       "      <td>20</td>\n",
       "    </tr>\n",
       "    <tr>\n",
       "      <th>61</th>\n",
       "      <td>240</td>\n",
       "    </tr>\n",
       "    <tr>\n",
       "      <th>66</th>\n",
       "      <td>20</td>\n",
       "    </tr>\n",
       "    <tr>\n",
       "      <th>68</th>\n",
       "      <td>20</td>\n",
       "    </tr>\n",
       "    <tr>\n",
       "      <th>92</th>\n",
       "      <td>20</td>\n",
       "    </tr>\n",
       "    <tr>\n",
       "      <th>115</th>\n",
       "      <td>20</td>\n",
       "    </tr>\n",
       "    <tr>\n",
       "      <th>189</th>\n",
       "      <td>20</td>\n",
       "    </tr>\n",
       "    <tr>\n",
       "      <th>301</th>\n",
       "      <td>100</td>\n",
       "    </tr>\n",
       "  </tbody>\n",
       "</table>\n",
       "</div>"
      ],
      "text/plain": [
       "                       ticker\n",
       "sequence_interval_s          \n",
       "1                    18357640\n",
       "2                        1940\n",
       "3                         520\n",
       "4                         280\n",
       "5                         200\n",
       "6                         100\n",
       "7                          80\n",
       "8                          20\n",
       "9                          40\n",
       "10                         20\n",
       "11                         20\n",
       "12                         40\n",
       "13                         20\n",
       "14                         60\n",
       "15                         40\n",
       "16                         20\n",
       "17                         40\n",
       "20                         60\n",
       "53                         60\n",
       "57                         20\n",
       "58                         20\n",
       "61                        240\n",
       "66                         20\n",
       "68                         20\n",
       "92                         20\n",
       "115                        20\n",
       "189                        20\n",
       "301                       100"
      ]
     },
     "execution_count": 21,
     "metadata": {},
     "output_type": "execute_result"
    }
   ],
   "source": [
    "data[['sequence_interval_s','ticker']].groupby('sequence_interval_s').count()"
   ]
  },
  {
   "cell_type": "code",
   "execution_count": null,
   "metadata": {},
   "outputs": [],
   "source": []
  }
 ],
 "metadata": {
  "kernelspec": {
   "display_name": "env",
   "language": "python",
   "name": "python3"
  },
  "language_info": {
   "codemirror_mode": {
    "name": "ipython",
    "version": 3
   },
   "file_extension": ".py",
   "mimetype": "text/x-python",
   "name": "python",
   "nbconvert_exporter": "python",
   "pygments_lexer": "ipython3",
   "version": "3.9.6"
  },
  "orig_nbformat": 4,
  "vscode": {
   "interpreter": {
    "hash": "3fc2bca8d450e08e2ba4e047634da123342318fbec408e9c7c9355388928494a"
   }
  }
 },
 "nbformat": 4,
 "nbformat_minor": 2
}
