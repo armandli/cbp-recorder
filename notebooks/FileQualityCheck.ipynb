{
 "cells": [
  {
   "cell_type": "code",
   "execution_count": 1,
   "id": "2cc69598",
   "metadata": {},
   "outputs": [],
   "source": [
    "import re\n",
    "import s3fs\n",
    "import pandas as pd\n",
    "from datetime import datetime"
   ]
  },
  {
   "cell_type": "code",
   "execution_count": 2,
   "id": "f0198020",
   "metadata": {},
   "outputs": [],
   "source": [
    "endpoint_url = \"http://us-east-1.linodeobjects.com\"\n",
    "bucket = \"crypto-data\"\n",
    "book1_dir = \"book-lvl1\"\n",
    "book2_dir = \"book-lvl2-s1\"\n",
    "stat_dir = \"stat\"\n",
    "ticker_dir = \"ticker\"\n",
    "trade_dir = \"trade\"\n",
    "candle_dir = \"candle\""
   ]
  },
  {
   "cell_type": "code",
   "execution_count": null,
   "id": "19cefd0a",
   "metadata": {},
   "outputs": [],
   "source": []
  },
  {
   "cell_type": "code",
   "execution_count": 4,
   "id": "641262a9",
   "metadata": {},
   "outputs": [],
   "source": [
    "fs_client_kwargs = {\n",
    "    \"endpoint_url\" : endpoint_url,\n",
    "    \"aws_access_key_id\" : bcs_key,\n",
    "    \"aws_secret_access_key\" : bcs_secret,\n",
    "}"
   ]
  },
  {
   "cell_type": "code",
   "execution_count": 5,
   "id": "d579f8d0",
   "metadata": {},
   "outputs": [],
   "source": [
    "fs = s3fs.S3FileSystem(client_kwargs = fs_client_kwargs)"
   ]
  },
  {
   "cell_type": "code",
   "execution_count": 6,
   "id": "15d6ff80",
   "metadata": {},
   "outputs": [],
   "source": [
    "### obtain all filenames"
   ]
  },
  {
   "cell_type": "code",
   "execution_count": 7,
   "id": "4c773b8f",
   "metadata": {},
   "outputs": [],
   "source": [
    "book1_files = fs.ls(\"{}/{}\".format(bucket, book1_dir))"
   ]
  },
  {
   "cell_type": "code",
   "execution_count": 8,
   "id": "816738bc",
   "metadata": {},
   "outputs": [],
   "source": [
    "book2_files = fs.ls(\"{}/{}\".format(bucket, book2_dir))"
   ]
  },
  {
   "cell_type": "code",
   "execution_count": 10,
   "id": "6209c44f",
   "metadata": {},
   "outputs": [],
   "source": [
    "stat_files = fs.ls(\"{}/{}\".format(bucket, stat_dir))"
   ]
  },
  {
   "cell_type": "code",
   "execution_count": 11,
   "id": "4e591bd1",
   "metadata": {},
   "outputs": [],
   "source": [
    "ticker_files = fs.ls(\"{}/{}\".format(bucket, ticker_dir))"
   ]
  },
  {
   "cell_type": "code",
   "execution_count": 12,
   "id": "0802e3aa",
   "metadata": {},
   "outputs": [],
   "source": [
    "trade_files = fs.ls(\"{}/{}\".format(bucket, trade_dir))"
   ]
  },
  {
   "cell_type": "code",
   "execution_count": 13,
   "id": "b58257a7",
   "metadata": {},
   "outputs": [],
   "source": [
    "#### Utility functions"
   ]
  },
  {
   "cell_type": "code",
   "execution_count": 14,
   "id": "f4708840",
   "metadata": {},
   "outputs": [],
   "source": [
    "def print_epoch(epoch):\n",
    "    return datetime.fromtimestamp(epoch).strftime(\"%Y-%m-%dT%H:%M:%S\")"
   ]
  },
  {
   "cell_type": "code",
   "execution_count": 15,
   "id": "f7326fc8",
   "metadata": {},
   "outputs": [],
   "source": [
    "def print_date_ranges(ranges):\n",
    "    for r in ranges:\n",
    "        print(\"({} - {})\".format(print_epoch(r[0]), print_epoch(r[1])))"
   ]
  },
  {
   "cell_type": "code",
   "execution_count": 16,
   "id": "e2951af9",
   "metadata": {},
   "outputs": [],
   "source": [
    "### find irregular file epoch ranges"
   ]
  },
  {
   "cell_type": "code",
   "execution_count": 17,
   "id": "f2d4d066",
   "metadata": {},
   "outputs": [],
   "source": [
    "def find_file_epoch_dist(files, prefix, dist):\n",
    "    short_epoch_dist_files = []\n",
    "    for file in files:\n",
    "        result = re.match(r'^crypto-data/{}_[0-9]+_([0-9]+)_([0-9]+).parquet$'.format(prefix), file)\n",
    "        if result is None:\n",
    "            print(\"bad filename {}\".format(file))\n",
    "            continue\n",
    "        se = int(result.group(1))\n",
    "        ee = int(result.group(2))\n",
    "        if ee - se != dist:\n",
    "            short_epoch_dist_files.append(file)\n",
    "    return short_epoch_dist_files"
   ]
  },
  {
   "cell_type": "code",
   "execution_count": 20,
   "id": "365bc1d1",
   "metadata": {},
   "outputs": [
    {
     "data": {
      "text/plain": [
       "[]"
      ]
     },
     "execution_count": 20,
     "metadata": {},
     "output_type": "execute_result"
    }
   ],
   "source": [
    "book1_bad_files = find_file_epoch_dist(book1_files, 'book-lvl1/book_level1', 21600)\n",
    "book1_bad_files"
   ]
  },
  {
   "cell_type": "code",
   "execution_count": 19,
   "id": "035223a5",
   "metadata": {},
   "outputs": [
    {
     "data": {
      "text/plain": [
       "['crypto-data/book-lvl2-s1/book_level2_0_1666898280_1666898460.parquet',\n",
       " 'crypto-data/book-lvl2-s1/book_level2_0_1666898460_1666898640.parquet',\n",
       " 'crypto-data/book-lvl2-s1/book_level2_0_1666898640_1666898820.parquet',\n",
       " 'crypto-data/book-lvl2-s1/book_level2_0_1666898820_1666899000.parquet',\n",
       " 'crypto-data/book-lvl2-s1/book_level2_0_1666899000_1666899180.parquet']"
      ]
     },
     "execution_count": 19,
     "metadata": {},
     "output_type": "execute_result"
    }
   ],
   "source": [
    "book2_bad_files = find_file_epoch_dist(book2_files, 'book-lvl2-s1/book_level2', 21600)\n",
    "book2_bad_files"
   ]
  },
  {
   "cell_type": "code",
   "execution_count": 21,
   "id": "f72f835d",
   "metadata": {},
   "outputs": [
    {
     "data": {
      "text/plain": [
       "[]"
      ]
     },
     "execution_count": 21,
     "metadata": {},
     "output_type": "execute_result"
    }
   ],
   "source": [
    "stat_bad_files = find_file_epoch_dist(stat_files, 'stat/stat_exchange', 21600)\n",
    "stat_bad_files"
   ]
  },
  {
   "cell_type": "code",
   "execution_count": 22,
   "id": "74f25a50",
   "metadata": {},
   "outputs": [
    {
     "data": {
      "text/plain": [
       "[]"
      ]
     },
     "execution_count": 22,
     "metadata": {},
     "output_type": "execute_result"
    }
   ],
   "source": [
    "ticker_bad_files = find_file_epoch_dist(ticker_files, 'ticker/ticker_exchange', 21600)\n",
    "ticker_bad_files"
   ]
  },
  {
   "cell_type": "code",
   "execution_count": 23,
   "id": "b9ea68c0",
   "metadata": {},
   "outputs": [
    {
     "data": {
      "text/plain": [
       "[]"
      ]
     },
     "execution_count": 23,
     "metadata": {},
     "output_type": "execute_result"
    }
   ],
   "source": [
    "trade_bad_files = find_file_epoch_dist(trade_files, 'trade/trade_exchange', 21600)\n",
    "trade_bad_files"
   ]
  },
  {
   "cell_type": "code",
   "execution_count": 24,
   "id": "132d3464",
   "metadata": {},
   "outputs": [],
   "source": [
    "### Check File Time continuity"
   ]
  },
  {
   "cell_type": "code",
   "execution_count": 25,
   "id": "e02e452f",
   "metadata": {},
   "outputs": [],
   "source": [
    "def get_epoch_pairs(files, prefix, exid):\n",
    "    epochs = []\n",
    "    for file in files:\n",
    "        result = re.match(r'^crypto-data/{}_{}_([0-9]+)_([0-9]+).parquet$'.format(prefix, exid), file)\n",
    "        if result is None:\n",
    "            continue\n",
    "        se = int(result.group(1))\n",
    "        ee = int(result.group(2))\n",
    "        epochs.append((se, ee))\n",
    "    return epochs"
   ]
  },
  {
   "cell_type": "code",
   "execution_count": 26,
   "id": "7254d218",
   "metadata": {},
   "outputs": [],
   "source": [
    "def get_coverage_epoch(epochs):\n",
    "    ranges = []\n",
    "    if not epochs:\n",
    "        return ranges\n",
    "    epochs.sort(key=lambda x: x[0])\n",
    "    start_epoch = epochs[0][0]\n",
    "    end_epoch = epochs[0][1]\n",
    "    for i in range(1, len(epochs)):\n",
    "        if epochs[i][0] > end_epoch:\n",
    "            ranges.append((start_epoch, end_epoch))\n",
    "            start_epoch = epochs[i][0]\n",
    "            end_epoch = epochs[i][1]\n",
    "        else:\n",
    "            end_epoch = epochs[i][1]\n",
    "    ranges.append((start_epoch, end_epoch))\n",
    "    return ranges"
   ]
  },
  {
   "cell_type": "code",
   "execution_count": 27,
   "id": "96c3c3e0",
   "metadata": {},
   "outputs": [],
   "source": [
    "book10_range = get_coverage_epoch(get_epoch_pairs(book1_files, 'book-lvl1/book_level1', 0))"
   ]
  },
  {
   "cell_type": "code",
   "execution_count": 28,
   "id": "44331194",
   "metadata": {},
   "outputs": [
    {
     "name": "stdout",
     "output_type": "stream",
     "text": [
      "(2022-04-29T20:00:00 - 2022-05-03T02:00:00)\n",
      "(2022-06-11T08:00:00 - 2022-06-13T20:00:00)\n",
      "(2022-06-23T14:00:00 - 2022-06-25T08:00:00)\n",
      "(2022-07-02T14:00:00 - 2022-07-03T14:00:00)\n",
      "(2022-07-09T20:00:00 - 2022-07-10T02:00:00)\n",
      "(2022-07-17T14:00:00 - 2022-10-30T14:00:00)\n"
     ]
    }
   ],
   "source": [
    "print_date_ranges(book10_range)"
   ]
  },
  {
   "cell_type": "code",
   "execution_count": 29,
   "id": "bffb0153",
   "metadata": {},
   "outputs": [],
   "source": [
    "book11_range = get_coverage_epoch(get_epoch_pairs(book1_files, 'book-lvl1/book_level1', 1))"
   ]
  },
  {
   "cell_type": "code",
   "execution_count": 30,
   "id": "637fef91",
   "metadata": {},
   "outputs": [
    {
     "name": "stdout",
     "output_type": "stream",
     "text": [
      "(2022-04-29T20:00:00 - 2022-05-03T02:00:00)\n",
      "(2022-06-11T08:00:00 - 2022-06-12T08:00:00)\n",
      "(2022-07-02T14:00:00 - 2022-07-04T14:00:00)\n",
      "(2022-07-17T14:00:00 - 2022-08-12T20:00:00)\n",
      "(2022-08-13T02:00:00 - 2022-10-30T14:00:00)\n"
     ]
    }
   ],
   "source": [
    "print_date_ranges(book11_range)"
   ]
  },
  {
   "cell_type": "code",
   "execution_count": 31,
   "id": "94a20cdc",
   "metadata": {},
   "outputs": [],
   "source": [
    "stat0_range = get_coverage_epoch(get_epoch_pairs(stat_files, 'stat/stat_exchange', 0))"
   ]
  },
  {
   "cell_type": "code",
   "execution_count": 32,
   "id": "2902a51c",
   "metadata": {},
   "outputs": [
    {
     "name": "stdout",
     "output_type": "stream",
     "text": [
      "(2022-05-01T08:00:00 - 2022-05-09T02:00:00)\n",
      "(2022-06-11T08:00:00 - 2022-06-14T14:00:00)\n",
      "(2022-06-23T20:00:00 - 2022-06-29T08:00:00)\n",
      "(2022-07-02T14:00:00 - 2022-07-06T02:00:00)\n",
      "(2022-07-09T20:00:00 - 2022-07-13T02:00:00)\n",
      "(2022-07-17T14:00:00 - 2022-07-26T02:00:00)\n",
      "(2022-07-31T14:00:00 - 2022-08-04T02:00:00)\n",
      "(2022-08-07T14:00:00 - 2022-09-27T08:00:00)\n",
      "(2022-09-28T20:00:00 - 2022-10-27T20:00:00)\n",
      "(2022-10-28T08:00:00 - 2022-10-30T14:00:00)\n"
     ]
    }
   ],
   "source": [
    "print_date_ranges(stat0_range)"
   ]
  },
  {
   "cell_type": "code",
   "execution_count": 33,
   "id": "d3afef84",
   "metadata": {},
   "outputs": [],
   "source": [
    "stat1_range = get_coverage_epoch(get_epoch_pairs(stat_files, 'stat/stat_exchange', 1))"
   ]
  },
  {
   "cell_type": "code",
   "execution_count": 34,
   "id": "c01a08dc",
   "metadata": {},
   "outputs": [
    {
     "name": "stdout",
     "output_type": "stream",
     "text": [
      "(2022-05-01T08:00:00 - 2022-05-03T02:00:00)\n",
      "(2022-06-11T08:00:00 - 2022-06-14T08:00:00)\n",
      "(2022-06-23T20:00:00 - 2022-06-27T08:00:00)\n",
      "(2022-07-02T14:00:00 - 2022-07-06T02:00:00)\n",
      "(2022-07-09T20:00:00 - 2022-07-11T14:00:00)\n",
      "(2022-07-17T14:00:00 - 2022-10-28T08:00:00)\n"
     ]
    }
   ],
   "source": [
    "print_date_ranges(stat1_range)"
   ]
  },
  {
   "cell_type": "code",
   "execution_count": 35,
   "id": "41ddf68f",
   "metadata": {},
   "outputs": [],
   "source": [
    "ticker0_range = get_coverage_epoch(get_epoch_pairs(ticker_files, 'ticker/ticker_exchange', 0))"
   ]
  },
  {
   "cell_type": "code",
   "execution_count": 36,
   "id": "a3f4ff16",
   "metadata": {},
   "outputs": [
    {
     "name": "stdout",
     "output_type": "stream",
     "text": [
      "(2022-05-01T08:00:00 - 2022-05-02T20:00:00)\n",
      "(2022-06-11T08:00:00 - 2022-06-13T08:00:00)\n",
      "(2022-06-23T20:00:00 - 2022-06-25T02:00:00)\n",
      "(2022-07-02T14:00:00 - 2022-07-06T02:00:00)\n",
      "(2022-07-09T20:00:00 - 2022-07-13T20:00:00)\n",
      "(2022-07-17T14:00:00 - 2022-10-05T14:00:00)\n",
      "(2022-10-09T08:00:00 - 2022-10-30T14:00:00)\n"
     ]
    }
   ],
   "source": [
    "print_date_ranges(ticker0_range)"
   ]
  },
  {
   "cell_type": "code",
   "execution_count": 37,
   "id": "4415957f",
   "metadata": {},
   "outputs": [],
   "source": [
    "ticker1_range = get_coverage_epoch(get_epoch_pairs(ticker_files, 'ticker/ticker_exchange', 1))"
   ]
  },
  {
   "cell_type": "code",
   "execution_count": 38,
   "id": "ecf50197",
   "metadata": {},
   "outputs": [
    {
     "name": "stdout",
     "output_type": "stream",
     "text": [
      "(2022-05-01T08:00:00 - 2022-05-02T08:00:00)\n",
      "(2022-06-11T08:00:00 - 2022-06-14T08:00:00)\n",
      "(2022-06-23T20:00:00 - 2022-06-28T08:00:00)\n",
      "(2022-07-02T14:00:00 - 2022-07-04T20:00:00)\n",
      "(2022-07-09T20:00:00 - 2022-07-14T08:00:00)\n",
      "(2022-07-17T14:00:00 - 2022-10-30T14:00:00)\n"
     ]
    }
   ],
   "source": [
    "print_date_ranges(ticker1_range)"
   ]
  },
  {
   "cell_type": "code",
   "execution_count": 39,
   "id": "b30aaf22",
   "metadata": {},
   "outputs": [],
   "source": [
    "trade0_range = get_coverage_epoch(get_epoch_pairs(trade_files, 'trade/trade_exchange', 0))"
   ]
  },
  {
   "cell_type": "code",
   "execution_count": 40,
   "id": "2ad9837d",
   "metadata": {},
   "outputs": [
    {
     "name": "stdout",
     "output_type": "stream",
     "text": [
      "(2022-08-13T20:00:00 - 2022-09-12T20:00:00)\n",
      "(2022-09-18T20:00:00 - 2022-10-16T02:00:00)\n",
      "(2022-10-17T20:00:00 - 2022-10-30T14:00:00)\n"
     ]
    }
   ],
   "source": [
    "print_date_ranges(trade0_range)"
   ]
  },
  {
   "cell_type": "code",
   "execution_count": 41,
   "id": "ead8ce00",
   "metadata": {},
   "outputs": [],
   "source": [
    "trade1_range = get_coverage_epoch(get_epoch_pairs(trade_files, 'trade/trade_exchange', 1))"
   ]
  },
  {
   "cell_type": "code",
   "execution_count": 42,
   "id": "597a72f5",
   "metadata": {},
   "outputs": [
    {
     "name": "stdout",
     "output_type": "stream",
     "text": [
      "(2022-08-13T20:00:00 - 2022-09-12T20:00:00)\n",
      "(2022-09-18T20:00:00 - 2022-10-30T14:00:00)\n"
     ]
    }
   ],
   "source": [
    "print_date_ranges(trade1_range)"
   ]
  },
  {
   "cell_type": "code",
   "execution_count": 43,
   "id": "f2b2beb7",
   "metadata": {},
   "outputs": [],
   "source": [
    "### Check As Of Time Continuity"
   ]
  },
  {
   "cell_type": "code",
   "execution_count": 44,
   "id": "d22c7597",
   "metadata": {},
   "outputs": [],
   "source": [
    "def get_file_epoch_pairs(files, prefix, exid):\n",
    "    ranges = []\n",
    "    for file in files:\n",
    "        result = re.match(r'^crypto-data/{}_{}_([0-9]+)_([0-9]+).parquet$'.format(prefix, exid), file)\n",
    "        if result is None:\n",
    "            continue\n",
    "        se = int(result.group(1))\n",
    "        ee = int(result.group(2))\n",
    "        ranges.append((file, se, ee))\n",
    "    return ranges"
   ]
  },
  {
   "cell_type": "code",
   "execution_count": 45,
   "id": "e6e44a21",
   "metadata": {},
   "outputs": [],
   "source": [
    "def get_file_asoftime_ranges(files_epochs):\n",
    "    files_epochs.sort(key=lambda x : x[1])\n",
    "    start_datetime = None\n",
    "    end_datetime = None\n",
    "    ranges = []\n",
    "    for (file, se, ee) in files_epochs:\n",
    "        with fs.open(file, 'rb') as fd:\n",
    "            df = pd.read_parquet(fd)\n",
    "            ag = df['sequence_time'].agg(['min', 'max'])\n",
    "            if start_datetime is None:\n",
    "                start_datetime = ag[0]\n",
    "                end_datetime = ag[1]\n",
    "            elif ag[0] > end_datetime:\n",
    "                ranges.append((start_datetime, end_datetime))\n",
    "                start_datetime = ag[0]\n",
    "                end_datetime = ag[1]\n",
    "            else:\n",
    "                end_datetime = ag[1]\n",
    "    return ranges"
   ]
  },
  {
   "cell_type": "code",
   "execution_count": null,
   "id": "c90e563a",
   "metadata": {},
   "outputs": [],
   "source": []
  },
  {
   "cell_type": "code",
   "execution_count": null,
   "id": "65eed2c1",
   "metadata": {},
   "outputs": [],
   "source": [
    "### read each file and do row count statistics"
   ]
  },
  {
   "cell_type": "code",
   "execution_count": 44,
   "id": "993ef340",
   "metadata": {},
   "outputs": [],
   "source": [
    "def get_df_row_count(files, prefix, exid):\n",
    "    rowcounts = []\n",
    "    for file in files:\n",
    "        result = re.match(r'^crypto-data/{}_{}_[0-9]+_[0-9]+.parquet$'.format(prefix, exid), file)\n",
    "        if result is None:\n",
    "            continue\n",
    "        with fs.open(file, 'rb') as fd:\n",
    "            df = pd.read_parquet(fd)\n",
    "            rowcounts.append((file, len(df)))\n",
    "    return rowcounts"
   ]
  },
  {
   "cell_type": "code",
   "execution_count": null,
   "id": "8d9215a9",
   "metadata": {},
   "outputs": [],
   "source": []
  },
  {
   "cell_type": "code",
   "execution_count": null,
   "id": "615ecc20",
   "metadata": {},
   "outputs": [],
   "source": [
    "### read each file and check for NaN"
   ]
  },
  {
   "cell_type": "code",
   "execution_count": 46,
   "id": "55f36381",
   "metadata": {},
   "outputs": [],
   "source": [
    "def get_df_nan_count(files, prefix, exid):\n",
    "    nancounts = []\n",
    "    for file in files:\n",
    "        result = re.match(r'^crypto-data/{}_{}_[0-9]+_[0-9]+.parquet$'.format(prefix, exid), file)\n",
    "        if result is not None:\n",
    "            continue\n",
    "        with fs.open(file, 'rb') as fd:\n",
    "            df = pd.read_parquet(fd)\n",
    "            nan_count = df.isna().sum().sum()\n",
    "            nancounts.append((file, nan_count))\n",
    "    return nancount"
   ]
  },
  {
   "cell_type": "code",
   "execution_count": null,
   "id": "e4241315",
   "metadata": {},
   "outputs": [],
   "source": [
    "book10_nancounts = get_df_nan_count(book1_files, 'book-lvl1/book_level1', 0)"
   ]
  },
  {
   "cell_type": "code",
   "execution_count": null,
   "id": "30caa70e",
   "metadata": {},
   "outputs": [],
   "source": []
  }
 ],
 "metadata": {
  "kernelspec": {
   "display_name": "Python 3 (ipykernel)",
   "language": "python",
   "name": "python3"
  },
  "language_info": {
   "codemirror_mode": {
    "name": "ipython",
    "version": 3
   },
   "file_extension": ".py",
   "mimetype": "text/x-python",
   "name": "python",
   "nbconvert_exporter": "python",
   "pygments_lexer": "ipython3",
   "version": "3.10.7"
  }
 },
 "nbformat": 4,
 "nbformat_minor": 5
}
