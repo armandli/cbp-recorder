{
 "cells": [
  {
   "cell_type": "code",
   "execution_count": 1,
   "id": "2cc69598",
   "metadata": {},
   "outputs": [],
   "source": [
    "import re\n",
    "import s3fs\n",
    "import pandas as pd\n",
    "from datetime import datetime, timedelta"
   ]
  },
  {
   "cell_type": "code",
   "execution_count": 2,
   "id": "f0198020",
   "metadata": {},
   "outputs": [],
   "source": [
    "endpoint_url = \"http://us-east-1.linodeobjects.com\"\n",
    "bucket = \"crypto-data\"\n",
    "book1_dir = \"book-lvl1\"\n",
    "book2_dir = \"book-lvl2-s1\"\n",
    "stat_dir = \"stat\"\n",
    "ticker_dir = \"ticker\"\n",
    "trade_dir = \"trade\"\n",
    "candle_dir = \"candle\""
   ]
  },
  {
   "cell_type": "code",
   "execution_count": null,
   "id": "f17eee95",
   "metadata": {},
   "outputs": [],
   "source": []
  },
  {
   "cell_type": "code",
   "execution_count": 4,
   "id": "641262a9",
   "metadata": {},
   "outputs": [],
   "source": [
    "fs_client_kwargs = {\n",
    "    \"endpoint_url\" : endpoint_url,\n",
    "    \"aws_access_key_id\" : bcs_key,\n",
    "    \"aws_secret_access_key\" : bcs_secret,\n",
    "}"
   ]
  },
  {
   "cell_type": "code",
   "execution_count": 5,
   "id": "d579f8d0",
   "metadata": {},
   "outputs": [],
   "source": [
    "fs = s3fs.S3FileSystem(client_kwargs = fs_client_kwargs)"
   ]
  },
  {
   "cell_type": "code",
   "execution_count": 6,
   "id": "15d6ff80",
   "metadata": {},
   "outputs": [],
   "source": [
    "### obtain all filenames"
   ]
  },
  {
   "cell_type": "code",
   "execution_count": 7,
   "id": "4c773b8f",
   "metadata": {},
   "outputs": [],
   "source": [
    "book1_files = fs.ls(\"{}/{}\".format(bucket, book1_dir))"
   ]
  },
  {
   "cell_type": "code",
   "execution_count": 8,
   "id": "816738bc",
   "metadata": {},
   "outputs": [],
   "source": [
    "book2_files = fs.ls(\"{}/{}\".format(bucket, book2_dir))"
   ]
  },
  {
   "cell_type": "code",
   "execution_count": 9,
   "id": "6209c44f",
   "metadata": {},
   "outputs": [],
   "source": [
    "stat_files = fs.ls(\"{}/{}\".format(bucket, stat_dir))"
   ]
  },
  {
   "cell_type": "code",
   "execution_count": 10,
   "id": "4e591bd1",
   "metadata": {},
   "outputs": [],
   "source": [
    "ticker_files = fs.ls(\"{}/{}\".format(bucket, ticker_dir))"
   ]
  },
  {
   "cell_type": "code",
   "execution_count": 11,
   "id": "0802e3aa",
   "metadata": {},
   "outputs": [],
   "source": [
    "trade_files = fs.ls(\"{}/{}\".format(bucket, trade_dir))"
   ]
  },
  {
   "cell_type": "code",
   "execution_count": 12,
   "id": "b58257a7",
   "metadata": {},
   "outputs": [],
   "source": [
    "#### Utility functions"
   ]
  },
  {
   "cell_type": "code",
   "execution_count": 13,
   "id": "f4708840",
   "metadata": {},
   "outputs": [],
   "source": [
    "def print_epoch(epoch):\n",
    "    return datetime.fromtimestamp(epoch).strftime(\"%Y-%m-%dT%H:%M:%S\")"
   ]
  },
  {
   "cell_type": "code",
   "execution_count": 14,
   "id": "f7326fc8",
   "metadata": {},
   "outputs": [],
   "source": [
    "def print_date_ranges(ranges):\n",
    "    for r in ranges:\n",
    "        print(\"({} - {})\".format(print_epoch(r[0]), print_epoch(r[1])))"
   ]
  },
  {
   "cell_type": "code",
   "execution_count": 15,
   "id": "e2951af9",
   "metadata": {},
   "outputs": [],
   "source": [
    "### find irregular file epoch ranges"
   ]
  },
  {
   "cell_type": "code",
   "execution_count": 16,
   "id": "f2d4d066",
   "metadata": {},
   "outputs": [],
   "source": [
    "def find_file_epoch_dist(files, prefix, dist):\n",
    "    short_epoch_dist_files = []\n",
    "    for file in files:\n",
    "        result = re.match(r'^crypto-data/{}_[0-9]+_([0-9]+)_([0-9]+).parquet$'.format(prefix), file)\n",
    "        if result is None:\n",
    "            print(\"bad filename {}\".format(file))\n",
    "            continue\n",
    "        se = int(result.group(1))\n",
    "        ee = int(result.group(2))\n",
    "        if ee - se != dist:\n",
    "            short_epoch_dist_files.append(file)\n",
    "    return short_epoch_dist_files"
   ]
  },
  {
   "cell_type": "code",
   "execution_count": 17,
   "id": "365bc1d1",
   "metadata": {},
   "outputs": [
    {
     "data": {
      "text/plain": [
       "[]"
      ]
     },
     "execution_count": 17,
     "metadata": {},
     "output_type": "execute_result"
    }
   ],
   "source": [
    "book1_bad_files = find_file_epoch_dist(book1_files, 'book-lvl1/book_level1', 21600)\n",
    "book1_bad_files"
   ]
  },
  {
   "cell_type": "code",
   "execution_count": 18,
   "id": "035223a5",
   "metadata": {},
   "outputs": [
    {
     "data": {
      "text/plain": [
       "[]"
      ]
     },
     "execution_count": 18,
     "metadata": {},
     "output_type": "execute_result"
    }
   ],
   "source": [
    "book2_bad_files = find_file_epoch_dist(book2_files, 'book-lvl2-s1/book_level2', 21600)\n",
    "book2_bad_files"
   ]
  },
  {
   "cell_type": "code",
   "execution_count": 19,
   "id": "f72f835d",
   "metadata": {},
   "outputs": [
    {
     "data": {
      "text/plain": [
       "[]"
      ]
     },
     "execution_count": 19,
     "metadata": {},
     "output_type": "execute_result"
    }
   ],
   "source": [
    "stat_bad_files = find_file_epoch_dist(stat_files, 'stat/stat_exchange', 21600)\n",
    "stat_bad_files"
   ]
  },
  {
   "cell_type": "code",
   "execution_count": 20,
   "id": "74f25a50",
   "metadata": {},
   "outputs": [
    {
     "data": {
      "text/plain": [
       "[]"
      ]
     },
     "execution_count": 20,
     "metadata": {},
     "output_type": "execute_result"
    }
   ],
   "source": [
    "ticker_bad_files = find_file_epoch_dist(ticker_files, 'ticker/ticker_exchange', 21600)\n",
    "ticker_bad_files"
   ]
  },
  {
   "cell_type": "code",
   "execution_count": 21,
   "id": "b9ea68c0",
   "metadata": {},
   "outputs": [
    {
     "data": {
      "text/plain": [
       "[]"
      ]
     },
     "execution_count": 21,
     "metadata": {},
     "output_type": "execute_result"
    }
   ],
   "source": [
    "trade_bad_files = find_file_epoch_dist(trade_files, 'trade/trade_exchange', 21600)\n",
    "trade_bad_files"
   ]
  },
  {
   "cell_type": "code",
   "execution_count": 22,
   "id": "132d3464",
   "metadata": {},
   "outputs": [],
   "source": [
    "### Check File Time continuity"
   ]
  },
  {
   "cell_type": "code",
   "execution_count": 23,
   "id": "e02e452f",
   "metadata": {},
   "outputs": [],
   "source": [
    "def get_epoch_pairs(files, prefix, exid):\n",
    "    epochs = []\n",
    "    for file in files:\n",
    "        result = re.match(r'^crypto-data/{}_{}_([0-9]+)_([0-9]+).parquet$'.format(prefix, exid), file)\n",
    "        if result is None:\n",
    "            continue\n",
    "        se = int(result.group(1))\n",
    "        ee = int(result.group(2))\n",
    "        epochs.append((se, ee))\n",
    "    return epochs"
   ]
  },
  {
   "cell_type": "code",
   "execution_count": 24,
   "id": "7254d218",
   "metadata": {},
   "outputs": [],
   "source": [
    "def get_coverage_epoch(epochs):\n",
    "    ranges = []\n",
    "    if not epochs:\n",
    "        return ranges\n",
    "    epochs.sort(key=lambda x: x[0])\n",
    "    start_epoch = epochs[0][0]\n",
    "    end_epoch = epochs[0][1]\n",
    "    for i in range(1, len(epochs)):\n",
    "        if epochs[i][0] > end_epoch:\n",
    "            ranges.append((start_epoch, end_epoch))\n",
    "            start_epoch = epochs[i][0]\n",
    "            end_epoch = epochs[i][1]\n",
    "        else:\n",
    "            end_epoch = epochs[i][1]\n",
    "    ranges.append((start_epoch, end_epoch))\n",
    "    return ranges"
   ]
  },
  {
   "cell_type": "code",
   "execution_count": 25,
   "id": "96c3c3e0",
   "metadata": {},
   "outputs": [],
   "source": [
    "book10_range = get_coverage_epoch(get_epoch_pairs(book1_files, 'book-lvl1/book_level1', 0))"
   ]
  },
  {
   "cell_type": "code",
   "execution_count": 26,
   "id": "44331194",
   "metadata": {},
   "outputs": [
    {
     "name": "stdout",
     "output_type": "stream",
     "text": [
      "(2022-04-29T20:00:00 - 2022-05-03T02:00:00)\n",
      "(2022-06-11T08:00:00 - 2022-06-13T20:00:00)\n",
      "(2022-06-23T14:00:00 - 2022-06-25T08:00:00)\n",
      "(2022-07-02T14:00:00 - 2022-07-03T14:00:00)\n",
      "(2022-07-09T20:00:00 - 2022-07-10T02:00:00)\n",
      "(2022-07-17T14:00:00 - 2022-11-09T19:00:00)\n"
     ]
    }
   ],
   "source": [
    "print_date_ranges(book10_range)"
   ]
  },
  {
   "cell_type": "code",
   "execution_count": 27,
   "id": "bffb0153",
   "metadata": {},
   "outputs": [],
   "source": [
    "book11_range = get_coverage_epoch(get_epoch_pairs(book1_files, 'book-lvl1/book_level1', 1))"
   ]
  },
  {
   "cell_type": "code",
   "execution_count": 28,
   "id": "637fef91",
   "metadata": {},
   "outputs": [
    {
     "name": "stdout",
     "output_type": "stream",
     "text": [
      "(2022-04-29T20:00:00 - 2022-05-03T02:00:00)\n",
      "(2022-06-11T08:00:00 - 2022-06-12T08:00:00)\n",
      "(2022-07-02T14:00:00 - 2022-07-04T14:00:00)\n",
      "(2022-07-17T14:00:00 - 2022-08-12T20:00:00)\n",
      "(2022-08-13T02:00:00 - 2022-11-09T19:00:00)\n"
     ]
    }
   ],
   "source": [
    "print_date_ranges(book11_range)"
   ]
  },
  {
   "cell_type": "code",
   "execution_count": 29,
   "id": "05a761a6",
   "metadata": {},
   "outputs": [],
   "source": [
    "book20_range = get_coverage_epoch(get_epoch_pairs(book2_files, 'book-lvl2-s1/book_level2', 0))"
   ]
  },
  {
   "cell_type": "code",
   "execution_count": 30,
   "id": "7676f915",
   "metadata": {},
   "outputs": [
    {
     "name": "stdout",
     "output_type": "stream",
     "text": [
      "(2022-10-23T08:00:00 - 2022-10-23T14:00:00)\n",
      "(2022-10-24T02:00:00 - 2022-10-24T08:00:00)\n",
      "(2022-10-25T08:00:00 - 2022-10-25T14:00:00)\n",
      "(2022-10-27T14:00:00 - 2022-10-27T20:00:00)\n",
      "(2022-10-28T08:00:00 - 2022-11-05T08:00:00)\n",
      "(2022-11-06T13:00:00 - 2022-11-09T19:00:00)\n"
     ]
    }
   ],
   "source": [
    "print_date_ranges(book20_range)"
   ]
  },
  {
   "cell_type": "code",
   "execution_count": 31,
   "id": "0d27e8b8",
   "metadata": {},
   "outputs": [],
   "source": [
    "book21_range = get_coverage_epoch(get_epoch_pairs(book2_files, 'book-lvl2-s1/book_level2', 1))"
   ]
  },
  {
   "cell_type": "code",
   "execution_count": 32,
   "id": "b6ad4483",
   "metadata": {},
   "outputs": [
    {
     "name": "stdout",
     "output_type": "stream",
     "text": [
      "(2022-10-23T08:00:00 - 2022-10-23T14:00:00)\n",
      "(2022-10-24T02:00:00 - 2022-10-24T08:00:00)\n",
      "(2022-10-25T08:00:00 - 2022-10-25T14:00:00)\n",
      "(2022-10-27T14:00:00 - 2022-10-27T20:00:00)\n",
      "(2022-10-28T08:00:00 - 2022-11-09T19:00:00)\n"
     ]
    }
   ],
   "source": [
    "print_date_ranges(book21_range)"
   ]
  },
  {
   "cell_type": "code",
   "execution_count": 33,
   "id": "94a20cdc",
   "metadata": {},
   "outputs": [],
   "source": [
    "stat0_range = get_coverage_epoch(get_epoch_pairs(stat_files, 'stat/stat_exchange', 0))"
   ]
  },
  {
   "cell_type": "code",
   "execution_count": 34,
   "id": "2902a51c",
   "metadata": {},
   "outputs": [
    {
     "name": "stdout",
     "output_type": "stream",
     "text": [
      "(2022-05-01T08:00:00 - 2022-05-09T02:00:00)\n",
      "(2022-06-11T08:00:00 - 2022-06-14T14:00:00)\n",
      "(2022-06-23T20:00:00 - 2022-06-29T08:00:00)\n",
      "(2022-07-02T14:00:00 - 2022-07-06T02:00:00)\n",
      "(2022-07-09T20:00:00 - 2022-07-13T02:00:00)\n",
      "(2022-07-17T14:00:00 - 2022-07-26T02:00:00)\n",
      "(2022-07-31T14:00:00 - 2022-08-04T02:00:00)\n",
      "(2022-08-07T14:00:00 - 2022-09-27T08:00:00)\n",
      "(2022-09-28T20:00:00 - 2022-10-27T20:00:00)\n",
      "(2022-10-28T08:00:00 - 2022-11-09T19:00:00)\n"
     ]
    }
   ],
   "source": [
    "print_date_ranges(stat0_range)"
   ]
  },
  {
   "cell_type": "code",
   "execution_count": 35,
   "id": "d3afef84",
   "metadata": {},
   "outputs": [],
   "source": [
    "stat1_range = get_coverage_epoch(get_epoch_pairs(stat_files, 'stat/stat_exchange', 1))"
   ]
  },
  {
   "cell_type": "code",
   "execution_count": 36,
   "id": "c01a08dc",
   "metadata": {},
   "outputs": [
    {
     "name": "stdout",
     "output_type": "stream",
     "text": [
      "(2022-05-01T08:00:00 - 2022-05-03T02:00:00)\n",
      "(2022-06-11T08:00:00 - 2022-06-14T08:00:00)\n",
      "(2022-06-23T20:00:00 - 2022-06-27T08:00:00)\n",
      "(2022-07-02T14:00:00 - 2022-07-06T02:00:00)\n",
      "(2022-07-09T20:00:00 - 2022-07-11T14:00:00)\n",
      "(2022-07-17T14:00:00 - 2022-10-28T08:00:00)\n",
      "(2022-10-30T14:00:00 - 2022-11-09T19:00:00)\n"
     ]
    }
   ],
   "source": [
    "print_date_ranges(stat1_range)"
   ]
  },
  {
   "cell_type": "code",
   "execution_count": 37,
   "id": "41ddf68f",
   "metadata": {},
   "outputs": [],
   "source": [
    "ticker0_range = get_coverage_epoch(get_epoch_pairs(ticker_files, 'ticker/ticker_exchange', 0))"
   ]
  },
  {
   "cell_type": "code",
   "execution_count": 38,
   "id": "a3f4ff16",
   "metadata": {},
   "outputs": [
    {
     "name": "stdout",
     "output_type": "stream",
     "text": [
      "(2022-05-01T08:00:00 - 2022-05-02T20:00:00)\n",
      "(2022-06-11T08:00:00 - 2022-06-13T08:00:00)\n",
      "(2022-06-23T20:00:00 - 2022-06-25T02:00:00)\n",
      "(2022-07-02T14:00:00 - 2022-07-06T02:00:00)\n",
      "(2022-07-09T20:00:00 - 2022-07-13T20:00:00)\n",
      "(2022-07-17T14:00:00 - 2022-10-05T14:00:00)\n",
      "(2022-10-09T08:00:00 - 2022-11-09T19:00:00)\n"
     ]
    }
   ],
   "source": [
    "print_date_ranges(ticker0_range)"
   ]
  },
  {
   "cell_type": "code",
   "execution_count": 39,
   "id": "4415957f",
   "metadata": {},
   "outputs": [],
   "source": [
    "ticker1_range = get_coverage_epoch(get_epoch_pairs(ticker_files, 'ticker/ticker_exchange', 1))"
   ]
  },
  {
   "cell_type": "code",
   "execution_count": 40,
   "id": "ecf50197",
   "metadata": {},
   "outputs": [
    {
     "name": "stdout",
     "output_type": "stream",
     "text": [
      "(2022-05-01T08:00:00 - 2022-05-02T08:00:00)\n",
      "(2022-06-11T08:00:00 - 2022-06-14T08:00:00)\n",
      "(2022-06-23T20:00:00 - 2022-06-28T08:00:00)\n",
      "(2022-07-02T14:00:00 - 2022-07-04T20:00:00)\n",
      "(2022-07-09T20:00:00 - 2022-07-14T08:00:00)\n",
      "(2022-07-17T14:00:00 - 2022-11-07T13:00:00)\n"
     ]
    }
   ],
   "source": [
    "print_date_ranges(ticker1_range)"
   ]
  },
  {
   "cell_type": "code",
   "execution_count": 41,
   "id": "b30aaf22",
   "metadata": {},
   "outputs": [],
   "source": [
    "trade0_range = get_coverage_epoch(get_epoch_pairs(trade_files, 'trade/trade_exchange', 0))"
   ]
  },
  {
   "cell_type": "code",
   "execution_count": 42,
   "id": "2ad9837d",
   "metadata": {},
   "outputs": [
    {
     "name": "stdout",
     "output_type": "stream",
     "text": [
      "(2022-08-13T20:00:00 - 2022-09-12T20:00:00)\n",
      "(2022-09-18T20:00:00 - 2022-10-16T02:00:00)\n",
      "(2022-10-17T20:00:00 - 2022-11-08T13:00:00)\n",
      "(2022-11-08T19:00:00 - 2022-11-09T07:00:00)\n",
      "(2022-11-09T13:00:00 - 2022-11-09T19:00:00)\n"
     ]
    }
   ],
   "source": [
    "print_date_ranges(trade0_range)"
   ]
  },
  {
   "cell_type": "code",
   "execution_count": 43,
   "id": "ead8ce00",
   "metadata": {},
   "outputs": [],
   "source": [
    "trade1_range = get_coverage_epoch(get_epoch_pairs(trade_files, 'trade/trade_exchange', 1))"
   ]
  },
  {
   "cell_type": "code",
   "execution_count": 44,
   "id": "597a72f5",
   "metadata": {},
   "outputs": [
    {
     "name": "stdout",
     "output_type": "stream",
     "text": [
      "(2022-08-13T20:00:00 - 2022-09-12T20:00:00)\n",
      "(2022-09-18T20:00:00 - 2022-11-09T19:00:00)\n"
     ]
    }
   ],
   "source": [
    "print_date_ranges(trade1_range)"
   ]
  },
  {
   "cell_type": "code",
   "execution_count": 45,
   "id": "f2b2beb7",
   "metadata": {},
   "outputs": [],
   "source": [
    "### Check As Of Time Continuity"
   ]
  },
  {
   "cell_type": "code",
   "execution_count": 46,
   "id": "4cf86ec1",
   "metadata": {},
   "outputs": [],
   "source": [
    "#TODO: something is wrong"
   ]
  },
  {
   "cell_type": "code",
   "execution_count": 46,
   "id": "2c5be80a",
   "metadata": {},
   "outputs": [],
   "source": [
    "sequence_datetime_format = '%Y-%m-%dT%H:%M:%S.%f %Z'"
   ]
  },
  {
   "cell_type": "code",
   "execution_count": 47,
   "id": "d22c7597",
   "metadata": {},
   "outputs": [],
   "source": [
    "def get_file_epoch_pairs(files, prefix, exid):\n",
    "    ranges = []\n",
    "    for file in files:\n",
    "        result = re.match(r'^crypto-data/{}_{}_([0-9]+)_([0-9]+).parquet$'.format(prefix, exid), file)\n",
    "        if result is None:\n",
    "            continue\n",
    "        se = int(result.group(1))\n",
    "        ee = int(result.group(2))\n",
    "        ranges.append((file, se, ee))\n",
    "    return ranges"
   ]
  },
  {
   "cell_type": "code",
   "execution_count": 48,
   "id": "e6e44a21",
   "metadata": {},
   "outputs": [],
   "source": [
    "def get_file_asoftime_ranges(files_epochs):\n",
    "    files_epochs.sort(key=lambda x : x[1])\n",
    "    start_datetime = None\n",
    "    end_datetime = None\n",
    "    ranges = []\n",
    "    for (file, se, ee) in files_epochs:\n",
    "        with fs.open(file, 'rb') as fd:\n",
    "            df = pd.read_parquet(fd)\n",
    "            ag = df['sequence_time'].agg(['min', 'max'])\n",
    "            if start_datetime is None:\n",
    "                start_datetime = datetime.strptime(ag[0], sequence_datetime_format)\n",
    "                end_datetime = datetime.strptime(ag[1], sequence_datetime_format)\n",
    "            elif datetime.strptime(ag[0], sequence_datetime_format) > end_datetime + timedelta(seconds=1):\n",
    "                ranges.append((start_datetime, end_datetime))\n",
    "                start_datetime = datetime.strptime(ag[0], sequence_datetime_format)\n",
    "                end_datetime = datetime.strptime(ag[1], sequence_datetime_format)\n",
    "            else:\n",
    "                end_datetime = datetime.strptime(ag[1], sequence_datetime_format)\n",
    "    return ranges"
   ]
  },
  {
   "cell_type": "code",
   "execution_count": 49,
   "id": "c90e563a",
   "metadata": {},
   "outputs": [],
   "source": [
    "book20_asoftime_range = get_file_asoftime_ranges(get_file_epoch_pairs(book2_files, 'book-lvl2-s1/book_level2', 0))"
   ]
  },
  {
   "cell_type": "code",
   "execution_count": 50,
   "id": "38b1442d",
   "metadata": {},
   "outputs": [
    {
     "data": {
      "text/plain": [
       "[(datetime.datetime(2022, 10, 23, 15, 20, 21),\n",
       "  datetime.datetime(2022, 10, 23, 17, 59, 59)),\n",
       " (datetime.datetime(2022, 10, 24, 11, 22, 6),\n",
       "  datetime.datetime(2022, 10, 24, 11, 59, 59)),\n",
       " (datetime.datetime(2022, 10, 25, 12, 49, 31),\n",
       "  datetime.datetime(2022, 10, 25, 17, 59, 59)),\n",
       " (datetime.datetime(2022, 10, 27, 19, 57, 42),\n",
       "  datetime.datetime(2022, 10, 27, 23, 59, 59)),\n",
       " (datetime.datetime(2022, 10, 28, 13, 38, 44),\n",
       "  datetime.datetime(2022, 10, 31, 23, 59, 59))]"
      ]
     },
     "execution_count": 50,
     "metadata": {},
     "output_type": "execute_result"
    }
   ],
   "source": [
    "book20_asoftime_range"
   ]
  },
  {
   "cell_type": "code",
   "execution_count": 51,
   "id": "b2840d27",
   "metadata": {},
   "outputs": [],
   "source": [
    "book21_asoftime_range = get_file_asoftime_ranges(get_file_epoch_pairs(book2_files, 'book-lvl2-s1/book_level2', 1))"
   ]
  },
  {
   "cell_type": "code",
   "execution_count": 52,
   "id": "eafdf253",
   "metadata": {},
   "outputs": [
    {
     "data": {
      "text/plain": [
       "[(datetime.datetime(2022, 10, 23, 15, 33, 1),\n",
       "  datetime.datetime(2022, 10, 23, 17, 59, 59)),\n",
       " (datetime.datetime(2022, 10, 24, 11, 24, 16),\n",
       "  datetime.datetime(2022, 10, 24, 11, 59, 59)),\n",
       " (datetime.datetime(2022, 10, 25, 12, 51, 45),\n",
       "  datetime.datetime(2022, 10, 25, 17, 59, 59)),\n",
       " (datetime.datetime(2022, 10, 27, 19, 58, 22),\n",
       "  datetime.datetime(2022, 10, 27, 23, 59, 59)),\n",
       " (datetime.datetime(2022, 10, 28, 13, 32, 55),\n",
       "  datetime.datetime(2022, 10, 28, 17, 59, 59)),\n",
       " (datetime.datetime(2022, 10, 28, 22, 0, 9),\n",
       "  datetime.datetime(2022, 10, 28, 23, 59, 59)),\n",
       " (datetime.datetime(2022, 10, 29, 4, 11, 3),\n",
       "  datetime.datetime(2022, 10, 29, 5, 59, 59)),\n",
       " (datetime.datetime(2022, 10, 29, 10, 3, 9),\n",
       "  datetime.datetime(2022, 10, 29, 11, 59, 59)),\n",
       " (datetime.datetime(2022, 10, 29, 15, 45, 42),\n",
       "  datetime.datetime(2022, 10, 29, 17, 59, 59)),\n",
       " (datetime.datetime(2022, 10, 29, 22, 16, 48),\n",
       "  datetime.datetime(2022, 10, 29, 23, 59, 59)),\n",
       " (datetime.datetime(2022, 10, 30, 4, 0, 7),\n",
       "  datetime.datetime(2022, 10, 30, 5, 59, 59)),\n",
       " (datetime.datetime(2022, 10, 30, 10, 0, 27),\n",
       "  datetime.datetime(2022, 10, 30, 11, 59, 59)),\n",
       " (datetime.datetime(2022, 10, 30, 15, 56),\n",
       "  datetime.datetime(2022, 10, 30, 17, 59, 59)),\n",
       " (datetime.datetime(2022, 10, 30, 21, 32, 10),\n",
       "  datetime.datetime(2022, 10, 30, 23, 59, 59)),\n",
       " (datetime.datetime(2022, 10, 31, 3, 23, 16),\n",
       "  datetime.datetime(2022, 10, 31, 5, 59, 59)),\n",
       " (datetime.datetime(2022, 10, 31, 9, 36, 17),\n",
       "  datetime.datetime(2022, 10, 31, 11, 59, 59)),\n",
       " (datetime.datetime(2022, 10, 31, 15, 20, 7),\n",
       "  datetime.datetime(2022, 10, 31, 17, 59, 59)),\n",
       " (datetime.datetime(2022, 10, 31, 21, 17, 9),\n",
       "  datetime.datetime(2022, 10, 31, 23, 59, 59)),\n",
       " (datetime.datetime(2022, 11, 1, 3, 35, 14),\n",
       "  datetime.datetime(2022, 11, 1, 5, 59, 59)),\n",
       " (datetime.datetime(2022, 11, 1, 9, 10, 37),\n",
       "  datetime.datetime(2022, 11, 1, 11, 59, 59)),\n",
       " (datetime.datetime(2022, 11, 1, 15, 14, 55),\n",
       "  datetime.datetime(2022, 11, 1, 17, 59, 59)),\n",
       " (datetime.datetime(2022, 11, 1, 21, 41, 6),\n",
       "  datetime.datetime(2022, 11, 1, 23, 59, 59))]"
      ]
     },
     "execution_count": 52,
     "metadata": {},
     "output_type": "execute_result"
    }
   ],
   "source": [
    "book21_asoftime_range"
   ]
  },
  {
   "cell_type": "code",
   "execution_count": 53,
   "id": "eec5ac1d",
   "metadata": {},
   "outputs": [
    {
     "data": {
      "text/plain": [
       "22"
      ]
     },
     "execution_count": 53,
     "metadata": {},
     "output_type": "execute_result"
    }
   ],
   "source": [
    "len(book21_asoftime_range)"
   ]
  },
  {
   "cell_type": "code",
   "execution_count": 54,
   "id": "f8ddedf4",
   "metadata": {},
   "outputs": [],
   "source": [
    "book10_asoftime_range = get_file_asoftime_ranges(get_file_epoch_pairs(book1_files, 'book-lvl1/book_level1', 0))"
   ]
  },
  {
   "cell_type": "code",
   "execution_count": 55,
   "id": "24af38ba",
   "metadata": {},
   "outputs": [
    {
     "data": {
      "text/plain": [
       "[(datetime.datetime(2022, 4, 30, 0, 52),\n",
       "  datetime.datetime(2022, 5, 3, 5, 59, 59)),\n",
       " (datetime.datetime(2022, 6, 11, 16, 3),\n",
       "  datetime.datetime(2022, 6, 13, 20, 12, 49)),\n",
       " (datetime.datetime(2022, 6, 23, 23, 57),\n",
       "  datetime.datetime(2022, 6, 23, 23, 59, 59)),\n",
       " (datetime.datetime(2022, 6, 24, 0, 51),\n",
       "  datetime.datetime(2022, 6, 25, 11, 59, 59)),\n",
       " (datetime.datetime(2022, 7, 2, 19, 56),\n",
       "  datetime.datetime(2022, 7, 3, 15, 6, 6)),\n",
       " (datetime.datetime(2022, 7, 10, 0, 19),\n",
       "  datetime.datetime(2022, 7, 10, 5, 59, 59)),\n",
       " (datetime.datetime(2022, 7, 17, 21, 56),\n",
       "  datetime.datetime(2022, 7, 19, 5, 59, 41)),\n",
       " (datetime.datetime(2022, 7, 19, 6, 1, 21),\n",
       "  datetime.datetime(2022, 7, 19, 11, 58, 27)),\n",
       " (datetime.datetime(2022, 7, 19, 12, 3, 27),\n",
       "  datetime.datetime(2022, 7, 25, 23, 59, 35)),\n",
       " (datetime.datetime(2022, 7, 26, 0, 1, 15),\n",
       "  datetime.datetime(2022, 7, 29, 23, 58, 20))]"
      ]
     },
     "execution_count": 55,
     "metadata": {},
     "output_type": "execute_result"
    }
   ],
   "source": [
    "book10_asoftime_range"
   ]
  },
  {
   "cell_type": "code",
   "execution_count": 56,
   "id": "b6bd230a",
   "metadata": {},
   "outputs": [],
   "source": [
    "book11_asoftime_range = get_file_asoftime_ranges(get_file_epoch_pairs(book1_files, 'book-lvl1/book_level1', 1))"
   ]
  },
  {
   "cell_type": "code",
   "execution_count": 57,
   "id": "6accdc18",
   "metadata": {},
   "outputs": [
    {
     "data": {
      "text/plain": [
       "[(datetime.datetime(2022, 4, 30, 0, 57),\n",
       "  datetime.datetime(2022, 5, 1, 5, 58, 46)),\n",
       " (datetime.datetime(2022, 5, 1, 6, 0, 26),\n",
       "  datetime.datetime(2022, 5, 1, 23, 58, 25)),\n",
       " (datetime.datetime(2022, 5, 2, 0, 0, 5),\n",
       "  datetime.datetime(2022, 5, 3, 5, 59, 59)),\n",
       " (datetime.datetime(2022, 6, 11, 16, 5),\n",
       "  datetime.datetime(2022, 6, 12, 11, 59, 59)),\n",
       " (datetime.datetime(2022, 7, 2, 19, 58),\n",
       "  datetime.datetime(2022, 7, 4, 17, 59, 59)),\n",
       " (datetime.datetime(2022, 7, 17, 21, 58),\n",
       "  datetime.datetime(2022, 7, 20, 23, 59, 22)),\n",
       " (datetime.datetime(2022, 7, 21, 0, 1, 2),\n",
       "  datetime.datetime(2022, 7, 22, 17, 59, 16)),\n",
       " (datetime.datetime(2022, 7, 22, 18, 0, 56),\n",
       "  datetime.datetime(2022, 8, 2, 23, 58, 53)),\n",
       " (datetime.datetime(2022, 8, 3, 0, 0, 33),\n",
       "  datetime.datetime(2022, 8, 8, 5, 59, 33)),\n",
       " (datetime.datetime(2022, 8, 8, 6, 1, 13),\n",
       "  datetime.datetime(2022, 8, 12, 23, 59, 59))]"
      ]
     },
     "execution_count": 57,
     "metadata": {},
     "output_type": "execute_result"
    }
   ],
   "source": [
    "book11_asoftime_range"
   ]
  },
  {
   "cell_type": "code",
   "execution_count": null,
   "id": "65eed2c1",
   "metadata": {},
   "outputs": [],
   "source": [
    "### read each file and do row count statistics"
   ]
  },
  {
   "cell_type": "code",
   "execution_count": 61,
   "id": "993ef340",
   "metadata": {},
   "outputs": [],
   "source": [
    "def get_df_row_count(files, prefix, exid):\n",
    "    rowcounts = []\n",
    "    for file in files:\n",
    "        result = re.match(r'^crypto-data/{}_{}_[0-9]+_[0-9]+.parquet$'.format(prefix, exid), file)\n",
    "        if result is None:\n",
    "            continue\n",
    "        with fs.open(file, 'rb') as fd:\n",
    "            df = pd.read_parquet(fd)\n",
    "            rowcounts.append((file, len(df)))\n",
    "    return rowcounts"
   ]
  },
  {
   "cell_type": "code",
   "execution_count": 62,
   "id": "8d9215a9",
   "metadata": {},
   "outputs": [],
   "source": [
    "book20_rowcounts = get_df_row_count(book2_files, 'book-lvl2-s1/book_level2', 0)"
   ]
  },
  {
   "cell_type": "code",
   "execution_count": 63,
   "id": "df61521f",
   "metadata": {},
   "outputs": [
    {
     "data": {
      "text/plain": [
       "[('crypto-data/book-lvl2-s1/book_level2_0_1666526400_1666548000.parquet',\n",
       "  9557),\n",
       " ('crypto-data/book-lvl2-s1/book_level2_0_1666591200_1666612800.parquet',\n",
       "  2274),\n",
       " ('crypto-data/book-lvl2-s1/book_level2_0_1666699200_1666720800.parquet',\n",
       "  18526),\n",
       " ('crypto-data/book-lvl2-s1/book_level2_0_1666893600_1666915200.parquet',\n",
       "  14532),\n",
       " ('crypto-data/book-lvl2-s1/book_level2_0_1666958400_1666980000.parquet',\n",
       "  15671),\n",
       " ('crypto-data/book-lvl2-s1/book_level2_0_1666980000_1667001600.parquet',\n",
       "  21592),\n",
       " ('crypto-data/book-lvl2-s1/book_level2_0_1667001600_1667023200.parquet',\n",
       "  21577),\n",
       " ('crypto-data/book-lvl2-s1/book_level2_0_1667023200_1667044800.parquet',\n",
       "  21600),\n",
       " ('crypto-data/book-lvl2-s1/book_level2_0_1667044800_1667066400.parquet',\n",
       "  21141),\n",
       " ('crypto-data/book-lvl2-s1/book_level2_0_1667066400_1667088000.parquet',\n",
       "  19632),\n",
       " ('crypto-data/book-lvl2-s1/book_level2_0_1667088000_1667109600.parquet',\n",
       "  21330),\n",
       " ('crypto-data/book-lvl2-s1/book_level2_0_1667109600_1667131200.parquet',\n",
       "  21580),\n",
       " ('crypto-data/book-lvl2-s1/book_level2_0_1667131200_1667152800.parquet',\n",
       "  21574),\n",
       " ('crypto-data/book-lvl2-s1/book_level2_0_1667152800_1667174400.parquet',\n",
       "  21505),\n",
       " ('crypto-data/book-lvl2-s1/book_level2_0_1667174400_1667196000.parquet',\n",
       "  21157),\n",
       " ('crypto-data/book-lvl2-s1/book_level2_0_1667196000_1667217600.parquet',\n",
       "  21580),\n",
       " ('crypto-data/book-lvl2-s1/book_level2_0_1667217600_1667239200.parquet',\n",
       "  21506),\n",
       " ('crypto-data/book-lvl2-s1/book_level2_0_1667239200_1667260800.parquet',\n",
       "  21561),\n",
       " ('crypto-data/book-lvl2-s1/book_level2_0_1667260800_1667282400.parquet',\n",
       "  14253),\n",
       " ('crypto-data/book-lvl2-s1/book_level2_0_1667282400_1667304000.parquet',\n",
       "  21451),\n",
       " ('crypto-data/book-lvl2-s1/book_level2_0_1667304000_1667325600.parquet',\n",
       "  21374),\n",
       " ('crypto-data/book-lvl2-s1/book_level2_0_1667325600_1667347200.parquet',\n",
       "  21379)]"
      ]
     },
     "execution_count": 63,
     "metadata": {},
     "output_type": "execute_result"
    }
   ],
   "source": [
    "book20_rowcounts"
   ]
  },
  {
   "cell_type": "code",
   "execution_count": 64,
   "id": "5d4b4760",
   "metadata": {},
   "outputs": [],
   "source": [
    "book21_rowcounts = get_df_row_count(book2_files, 'book-lvl2-s1/book_level2', 1)"
   ]
  },
  {
   "cell_type": "code",
   "execution_count": 65,
   "id": "7e49968b",
   "metadata": {},
   "outputs": [
    {
     "data": {
      "text/plain": [
       "[('crypto-data/book-lvl2-s1/book_level2_1_1666526400_1666548000.parquet',\n",
       "  8804),\n",
       " ('crypto-data/book-lvl2-s1/book_level2_1_1666591200_1666612800.parquet',\n",
       "  2144),\n",
       " ('crypto-data/book-lvl2-s1/book_level2_1_1666699200_1666720800.parquet',\n",
       "  18487),\n",
       " ('crypto-data/book-lvl2-s1/book_level2_1_1666893600_1666915200.parquet',\n",
       "  14494),\n",
       " ('crypto-data/book-lvl2-s1/book_level2_1_1666958400_1666980000.parquet',\n",
       "  8953),\n",
       " ('crypto-data/book-lvl2-s1/book_level2_1_1666980000_1667001600.parquet',\n",
       "  7191),\n",
       " ('crypto-data/book-lvl2-s1/book_level2_1_1667001600_1667023200.parquet',\n",
       "  6537),\n",
       " ('crypto-data/book-lvl2-s1/book_level2_1_1667023200_1667044800.parquet',\n",
       "  7011),\n",
       " ('crypto-data/book-lvl2-s1/book_level2_1_1667044800_1667066400.parquet',\n",
       "  8058),\n",
       " ('crypto-data/book-lvl2-s1/book_level2_1_1667066400_1667088000.parquet',\n",
       "  6192),\n",
       " ('crypto-data/book-lvl2-s1/book_level2_1_1667088000_1667109600.parquet',\n",
       "  7193),\n",
       " ('crypto-data/book-lvl2-s1/book_level2_1_1667109600_1667131200.parquet',\n",
       "  7173),\n",
       " ('crypto-data/book-lvl2-s1/book_level2_1_1667131200_1667152800.parquet',\n",
       "  7440),\n",
       " ('crypto-data/book-lvl2-s1/book_level2_1_1667152800_1667174400.parquet',\n",
       "  8870),\n",
       " ('crypto-data/book-lvl2-s1/book_level2_1_1667174400_1667196000.parquet',\n",
       "  9404),\n",
       " ('crypto-data/book-lvl2-s1/book_level2_1_1667196000_1667217600.parquet',\n",
       "  8623),\n",
       " ('crypto-data/book-lvl2-s1/book_level2_1_1667217600_1667239200.parquet',\n",
       "  9582),\n",
       " ('crypto-data/book-lvl2-s1/book_level2_1_1667239200_1667260800.parquet',\n",
       "  9668),\n",
       " ('crypto-data/book-lvl2-s1/book_level2_1_1667260800_1667282400.parquet',\n",
       "  8672),\n",
       " ('crypto-data/book-lvl2-s1/book_level2_1_1667282400_1667304000.parquet',\n",
       "  10159),\n",
       " ('crypto-data/book-lvl2-s1/book_level2_1_1667304000_1667325600.parquet',\n",
       "  9893),\n",
       " ('crypto-data/book-lvl2-s1/book_level2_1_1667325600_1667347200.parquet',\n",
       "  8127)]"
      ]
     },
     "execution_count": 65,
     "metadata": {},
     "output_type": "execute_result"
    }
   ],
   "source": [
    "book21_rowcounts"
   ]
  },
  {
   "cell_type": "code",
   "execution_count": 67,
   "id": "90455013",
   "metadata": {},
   "outputs": [
    {
     "data": {
      "text/plain": [
       "22"
      ]
     },
     "execution_count": 67,
     "metadata": {},
     "output_type": "execute_result"
    }
   ],
   "source": [
    "len(book21_rowcounts)"
   ]
  },
  {
   "cell_type": "code",
   "execution_count": null,
   "id": "615ecc20",
   "metadata": {},
   "outputs": [],
   "source": [
    "### read each file and check for NaN"
   ]
  },
  {
   "cell_type": "code",
   "execution_count": 70,
   "id": "55f36381",
   "metadata": {},
   "outputs": [],
   "source": [
    "def get_df_nan_count(files, prefix, exid):\n",
    "    nancounts = []\n",
    "    for file in files:\n",
    "        result = re.match(r'^crypto-data/{}_{}_[0-9]+_[0-9]+.parquet$'.format(prefix, exid), file)\n",
    "        if result is not None:\n",
    "            continue\n",
    "        with fs.open(file, 'rb') as fd:\n",
    "            df = pd.read_parquet(fd)\n",
    "            nan_count = df.isna().sum().sum()\n",
    "            nancounts.append((file, nan_count))\n",
    "    return nancounts"
   ]
  },
  {
   "cell_type": "code",
   "execution_count": 71,
   "id": "e4241315",
   "metadata": {},
   "outputs": [],
   "source": [
    "book20_nancounts = get_df_nan_count(book2_files, 'book-lvl2-s1/book_level2', 0)"
   ]
  },
  {
   "cell_type": "code",
   "execution_count": 72,
   "id": "30caa70e",
   "metadata": {},
   "outputs": [
    {
     "data": {
      "text/plain": [
       "[('crypto-data/book-lvl2-s1/book_level2_1_1666526400_1666548000.parquet', 0),\n",
       " ('crypto-data/book-lvl2-s1/book_level2_1_1666591200_1666612800.parquet', 0),\n",
       " ('crypto-data/book-lvl2-s1/book_level2_1_1666699200_1666720800.parquet', 0),\n",
       " ('crypto-data/book-lvl2-s1/book_level2_1_1666893600_1666915200.parquet', 0),\n",
       " ('crypto-data/book-lvl2-s1/book_level2_1_1666958400_1666980000.parquet', 0),\n",
       " ('crypto-data/book-lvl2-s1/book_level2_1_1666980000_1667001600.parquet', 0),\n",
       " ('crypto-data/book-lvl2-s1/book_level2_1_1667001600_1667023200.parquet', 0),\n",
       " ('crypto-data/book-lvl2-s1/book_level2_1_1667023200_1667044800.parquet', 0),\n",
       " ('crypto-data/book-lvl2-s1/book_level2_1_1667044800_1667066400.parquet', 0),\n",
       " ('crypto-data/book-lvl2-s1/book_level2_1_1667066400_1667088000.parquet', 0),\n",
       " ('crypto-data/book-lvl2-s1/book_level2_1_1667088000_1667109600.parquet', 0),\n",
       " ('crypto-data/book-lvl2-s1/book_level2_1_1667109600_1667131200.parquet', 0),\n",
       " ('crypto-data/book-lvl2-s1/book_level2_1_1667131200_1667152800.parquet', 0),\n",
       " ('crypto-data/book-lvl2-s1/book_level2_1_1667152800_1667174400.parquet', 1),\n",
       " ('crypto-data/book-lvl2-s1/book_level2_1_1667174400_1667196000.parquet', 0),\n",
       " ('crypto-data/book-lvl2-s1/book_level2_1_1667196000_1667217600.parquet', 0),\n",
       " ('crypto-data/book-lvl2-s1/book_level2_1_1667217600_1667239200.parquet', 0),\n",
       " ('crypto-data/book-lvl2-s1/book_level2_1_1667239200_1667260800.parquet', 0),\n",
       " ('crypto-data/book-lvl2-s1/book_level2_1_1667260800_1667282400.parquet', 0),\n",
       " ('crypto-data/book-lvl2-s1/book_level2_1_1667282400_1667304000.parquet', 0),\n",
       " ('crypto-data/book-lvl2-s1/book_level2_1_1667304000_1667325600.parquet', 0),\n",
       " ('crypto-data/book-lvl2-s1/book_level2_1_1667325600_1667347200.parquet', 0)]"
      ]
     },
     "execution_count": 72,
     "metadata": {},
     "output_type": "execute_result"
    }
   ],
   "source": [
    "book20_nancounts"
   ]
  },
  {
   "cell_type": "code",
   "execution_count": 73,
   "id": "e63ff9d7",
   "metadata": {},
   "outputs": [],
   "source": [
    "book21_nancounts = get_df_nan_count(book2_files, 'book-lvl2-s1/book_level2', 1)"
   ]
  },
  {
   "cell_type": "code",
   "execution_count": 74,
   "id": "5cfd5e73",
   "metadata": {},
   "outputs": [
    {
     "data": {
      "text/plain": [
       "[('crypto-data/book-lvl2-s1/book_level2_0_1666526400_1666548000.parquet', 0),\n",
       " ('crypto-data/book-lvl2-s1/book_level2_0_1666591200_1666612800.parquet', 0),\n",
       " ('crypto-data/book-lvl2-s1/book_level2_0_1666699200_1666720800.parquet', 0),\n",
       " ('crypto-data/book-lvl2-s1/book_level2_0_1666893600_1666915200.parquet', 0),\n",
       " ('crypto-data/book-lvl2-s1/book_level2_0_1666958400_1666980000.parquet', 0),\n",
       " ('crypto-data/book-lvl2-s1/book_level2_0_1666980000_1667001600.parquet', 0),\n",
       " ('crypto-data/book-lvl2-s1/book_level2_0_1667001600_1667023200.parquet', 0),\n",
       " ('crypto-data/book-lvl2-s1/book_level2_0_1667023200_1667044800.parquet', 0),\n",
       " ('crypto-data/book-lvl2-s1/book_level2_0_1667044800_1667066400.parquet', 3),\n",
       " ('crypto-data/book-lvl2-s1/book_level2_0_1667066400_1667088000.parquet', 6),\n",
       " ('crypto-data/book-lvl2-s1/book_level2_0_1667088000_1667109600.parquet', 0),\n",
       " ('crypto-data/book-lvl2-s1/book_level2_0_1667109600_1667131200.parquet', 0),\n",
       " ('crypto-data/book-lvl2-s1/book_level2_0_1667131200_1667152800.parquet', 0),\n",
       " ('crypto-data/book-lvl2-s1/book_level2_0_1667152800_1667174400.parquet', 1),\n",
       " ('crypto-data/book-lvl2-s1/book_level2_0_1667174400_1667196000.parquet', 0),\n",
       " ('crypto-data/book-lvl2-s1/book_level2_0_1667196000_1667217600.parquet', 0),\n",
       " ('crypto-data/book-lvl2-s1/book_level2_0_1667217600_1667239200.parquet', 0),\n",
       " ('crypto-data/book-lvl2-s1/book_level2_0_1667239200_1667260800.parquet', 0),\n",
       " ('crypto-data/book-lvl2-s1/book_level2_0_1667260800_1667282400.parquet', 0),\n",
       " ('crypto-data/book-lvl2-s1/book_level2_0_1667282400_1667304000.parquet', 0),\n",
       " ('crypto-data/book-lvl2-s1/book_level2_0_1667304000_1667325600.parquet', 1),\n",
       " ('crypto-data/book-lvl2-s1/book_level2_0_1667325600_1667347200.parquet', 0)]"
      ]
     },
     "execution_count": 74,
     "metadata": {},
     "output_type": "execute_result"
    }
   ],
   "source": [
    "book21_nancounts"
   ]
  },
  {
   "cell_type": "code",
   "execution_count": null,
   "id": "0cd395ed",
   "metadata": {},
   "outputs": [],
   "source": []
  }
 ],
 "metadata": {
  "kernelspec": {
   "display_name": "Python 3 (ipykernel)",
   "language": "python",
   "name": "python3"
  },
  "language_info": {
   "codemirror_mode": {
    "name": "ipython",
    "version": 3
   },
   "file_extension": ".py",
   "mimetype": "text/x-python",
   "name": "python",
   "nbconvert_exporter": "python",
   "pygments_lexer": "ipython3",
   "version": "3.10.8"
  }
 },
 "nbformat": 4,
 "nbformat_minor": 5
}
