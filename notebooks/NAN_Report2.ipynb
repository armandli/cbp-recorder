{
 "cells": [
  {
   "cell_type": "code",
   "execution_count": 1,
   "metadata": {},
   "outputs": [],
   "source": [
    "import glob\n",
    "import re\n",
    "import pandas as pd"
   ]
  },
  {
   "cell_type": "code",
   "execution_count": 2,
   "metadata": {},
   "outputs": [],
   "source": [
    "data_dir = '../data/'"
   ]
  },
  {
   "cell_type": "code",
   "execution_count": 3,
   "metadata": {},
   "outputs": [
    {
     "data": {
      "text/plain": [
       "['../data/etl_s2_v2_1680419520_1680590400.parquet',\n",
       " '../data/etl_s2_v2_1680112320_1680265920.parquet',\n",
       " '../data/etl_s2_v2_1679805120_1679958720.parquet',\n",
       " '../data/etl_s2_v2_1679958720_1680112320.parquet',\n",
       " '../data/etl_s2_v2_1680590400_1680744000.parquet',\n",
       " '../data/etl_s2_v2_1679178240_1679331840.parquet',\n",
       " '../data/etl_s2_v2_1680265920_1680419520.parquet',\n",
       " '../data/etl_s2_v2_1679485440_1679651520.parquet',\n",
       " '../data/etl_s2_v2_1679651520_1679805120.parquet',\n",
       " '../data/etl_s2_v2_1679331840_1679485440.parquet']"
      ]
     },
     "execution_count": 3,
     "metadata": {},
     "output_type": "execute_result"
    }
   ],
   "source": [
    "files = glob.glob(data_dir + 'etl_s2_v2*.parquet')\n",
    "files"
   ]
  },
  {
   "cell_type": "code",
   "execution_count": 4,
   "metadata": {},
   "outputs": [],
   "source": [
    "tickers = ['BTC-USD','ETH-USD','MKR-USD','BCH-USD','COMP-USD','AAVE-USD','UNI-USD','CRV-USD','BAL-USD','LTC-USD','ADA-USD','XLM-USD','ALGO-USD','ZEC-USD','DOGE-USD','SHIB-USD','SUSHI-USD','EOS-USD','ETC-USD','WBTC-USD']"
   ]
  },
  {
   "cell_type": "code",
   "execution_count": 221,
   "metadata": {},
   "outputs": [],
   "source": [
    "ticker = 'ETH-USD'"
   ]
  },
  {
   "cell_type": "code",
   "execution_count": 222,
   "metadata": {},
   "outputs": [],
   "source": [
    "data = pd.read_parquet(files[0])\n",
    "columns = data.columns"
   ]
  },
  {
   "cell_type": "code",
   "execution_count": 223,
   "metadata": {},
   "outputs": [],
   "source": [
    "def get_ticker_columns(ticker, columns, const_columns):\n",
    "    cols = [col for col in columns if col.startswith(ticker) or col in const_columns]\n",
    "    return cols"
   ]
  },
  {
   "cell_type": "code",
   "execution_count": 224,
   "metadata": {},
   "outputs": [],
   "source": [
    "def get_column_field(column, const_columns):\n",
    "    if column in const_columns:\n",
    "        return column\n",
    "    m = re.match(r'[a-zA-Z-]+:(.*)$', column)\n",
    "    return m.group(1)"
   ]
  },
  {
   "cell_type": "code",
   "execution_count": 225,
   "metadata": {},
   "outputs": [],
   "source": [
    "def get_all_data(files, columns, ticker, const_columns):\n",
    "    tcolumns = get_ticker_columns(ticker, columns, const_columns)\n",
    "    colmap = {col : get_column_field(col, const_columns) for col in tcolumns}\n",
    "    dfs = []\n",
    "    for file in files:\n",
    "        df = pd.read_parquet(file, columns=tcolumns)\n",
    "        df = df.rename(columns=colmap)\n",
    "        dfs.append(df)\n",
    "    df = pd.concat(dfs)\n",
    "    df.sort_index(inplace=True)\n",
    "    return df"
   ]
  },
  {
   "cell_type": "code",
   "execution_count": 226,
   "metadata": {},
   "outputs": [],
   "source": [
    "data = get_all_data(files, columns, ticker, ['book_mean_return_27', 'sequence_interval_s'])"
   ]
  },
  {
   "cell_type": "code",
   "execution_count": 227,
   "metadata": {},
   "outputs": [
    {
     "data": {
      "text/plain": [
       "(1530331, 710)"
      ]
     },
     "execution_count": 227,
     "metadata": {},
     "output_type": "execute_result"
    }
   ],
   "source": [
    "data.shape"
   ]
  },
  {
   "cell_type": "code",
   "execution_count": 228,
   "metadata": {},
   "outputs": [],
   "source": [
    "row_count = data.shape[0]"
   ]
  },
  {
   "cell_type": "code",
   "execution_count": 229,
   "metadata": {},
   "outputs": [],
   "source": [
    "nas = data.isna().sum()"
   ]
  },
  {
   "cell_type": "code",
   "execution_count": 230,
   "metadata": {},
   "outputs": [
    {
     "data": {
      "text/plain": [
       "7086553"
      ]
     },
     "execution_count": 230,
     "metadata": {},
     "output_type": "execute_result"
    }
   ],
   "source": [
    "nas.sum()"
   ]
  },
  {
   "cell_type": "code",
   "execution_count": 231,
   "metadata": {},
   "outputs": [],
   "source": [
    "threshold = 0.1"
   ]
  },
  {
   "cell_type": "code",
   "execution_count": 232,
   "metadata": {},
   "outputs": [
    {
     "name": "stdout",
     "output_type": "stream",
     "text": [
      "ba_spread_960kurt: 163614\n",
      "ba_spread_648kurt: 163614\n",
      "ba_spread_648skew: 163614\n",
      "ba_spread_162kurt: 163614\n",
      "ba_spread_162skew: 163614\n",
      "ba_spread_81kurt: 163614\n",
      "ba_spread_9kurt: 163614\n",
      "ba_spread_9skew: 163614\n",
      "ba_spread_27kurt: 163614\n",
      "trade_avg_price: 571639\n",
      "ba_spread_27skew: 163614\n",
      "ba_spread_81skew: 163614\n",
      "ba_spread_3skew: 163614\n",
      "ba_spread_324skew: 163614\n",
      "ba_spread_960skew: 163614\n",
      "ba_spread_3kurt: 163614\n",
      "ba_spread_324kurt: 163614\n",
      "trade_return: 571639\n",
      "total book column count: 16\n",
      "total trade column count: 2\n"
     ]
    }
   ],
   "source": [
    "book_col_count = 0\n",
    "trade_col_count = 0\n",
    "for (count, name) in zip(nas, nas.index):\n",
    "    nan_percent = float(count) / row_count\n",
    "    if nan_percent > threshold:\n",
    "        print(f\"{name}: {count}\")\n",
    "    if nan_percent > threshold and 'trade' not in name:\n",
    "        book_col_count += 1\n",
    "    if nan_percent > threshold and 'trade' in name:\n",
    "        trade_col_count += 1\n",
    "print(f\"total book column count: {book_col_count}\")\n",
    "print(f\"total trade column count: {trade_col_count}\")"
   ]
  },
  {
   "cell_type": "code",
   "execution_count": null,
   "metadata": {},
   "outputs": [],
   "source": []
  }
 ],
 "metadata": {
  "kernelspec": {
   "display_name": "env",
   "language": "python",
   "name": "python3"
  },
  "language_info": {
   "codemirror_mode": {
    "name": "ipython",
    "version": 3
   },
   "file_extension": ".py",
   "mimetype": "text/x-python",
   "name": "python",
   "nbconvert_exporter": "python",
   "pygments_lexer": "ipython3",
   "version": "3.9.6"
  },
  "orig_nbformat": 4
 },
 "nbformat": 4,
 "nbformat_minor": 2
}
