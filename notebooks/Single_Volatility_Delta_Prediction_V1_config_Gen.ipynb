{
 "cells": [
  {
   "cell_type": "code",
   "execution_count": 9,
   "metadata": {},
   "outputs": [],
   "source": [
    "import glob\n",
    "import re\n",
    "import json\n",
    "import pandas as pd"
   ]
  },
  {
   "cell_type": "code",
   "execution_count": 10,
   "metadata": {},
   "outputs": [],
   "source": [
    "data_dir = '../data/'"
   ]
  },
  {
   "cell_type": "code",
   "execution_count": 11,
   "metadata": {},
   "outputs": [
    {
     "data": {
      "text/plain": [
       "['../data/etl_s2_v2_1682465280_1682618880.parquet',\n",
       " '../data/etl_s2_v2_1681390080_1681543680.parquet',\n",
       " '../data/etl_s2_v2_1680419520_1680590400.parquet',\n",
       " '../data/etl_s2_v2_1680112320_1680265920.parquet',\n",
       " '../data/etl_s2_v2_1680897600_1681051200.parquet',\n",
       " '../data/etl_s2_v2_1681697280_1681850880.parquet',\n",
       " '../data/etl_s2_v2_1679805120_1679958720.parquet',\n",
       " '../data/etl_s2_v2_1682311680_1682465280.parquet',\n",
       " '../data/etl_s2_v2_1682004480_1682158080.parquet',\n",
       " '../data/etl_s2_v2_1681850880_1682004480.parquet',\n",
       " '../data/etl_s2_v2_1680744000_1680897600.parquet',\n",
       " '../data/etl_s2_v2_1682158080_1682311680.parquet',\n",
       " '../data/etl_s2_v2_1679958720_1680112320.parquet',\n",
       " '../data/etl_s2_v2_1680590400_1680744000.parquet',\n",
       " '../data/etl_s2_v2_1679178240_1679331840.parquet',\n",
       " '../data/etl_s2_v2_1680265920_1680419520.parquet',\n",
       " '../data/etl_s2_v2_1679485440_1679651520.parquet',\n",
       " '../data/etl_s2_v2_1681082880_1681236480.parquet',\n",
       " '../data/etl_s2_v2_1681543680_1681697280.parquet',\n",
       " '../data/etl_s2_v2_1679651520_1679805120.parquet',\n",
       " '../data/etl_s2_v2_1681236480_1681390080.parquet',\n",
       " '../data/etl_s2_v2_1679331840_1679485440.parquet']"
      ]
     },
     "execution_count": 11,
     "metadata": {},
     "output_type": "execute_result"
    }
   ],
   "source": [
    "files = glob.glob(data_dir + 'etl_s2_v2*.parquet')\n",
    "files"
   ]
  },
  {
   "cell_type": "code",
   "execution_count": 12,
   "metadata": {},
   "outputs": [],
   "source": [
    "ticker = 'ETH-USD'"
   ]
  },
  {
   "cell_type": "code",
   "execution_count": 13,
   "metadata": {},
   "outputs": [],
   "source": [
    "data = pd.read_parquet(files[0])\n",
    "columns = data.columns"
   ]
  },
  {
   "cell_type": "code",
   "execution_count": null,
   "metadata": {},
   "outputs": [],
   "source": [
    "ticker_columns = []\n",
    "for col in columns:\n",
    "    if col.startswith(ticker):\n",
    "        ticker_columns.append(col)\n",
    "ticker_columns = [col for col in ticker_columns if col != f'{ticker}:trade_avg_price' and col != f'{ticker}:trade_return']"
   ]
  },
  {
   "cell_type": "code",
   "execution_count": null,
   "metadata": {},
   "outputs": [
    {
     "data": {
      "text/plain": [
       "706"
      ]
     },
     "execution_count": 7,
     "metadata": {},
     "output_type": "execute_result"
    }
   ],
   "source": [
    "len(ticker_columns)"
   ]
  },
  {
   "cell_type": "code",
   "execution_count": null,
   "metadata": {},
   "outputs": [],
   "source": [
    "input_columns = []\n",
    "for col in ticker_columns:\n",
    "    m = re.match('^{}:(.*)$'.format(ticker), col)\n",
    "    input_columns.append(m.group(1))"
   ]
  },
  {
   "cell_type": "code",
   "execution_count": null,
   "metadata": {},
   "outputs": [
    {
     "data": {
      "text/plain": [
       "'../data/one_vdelta_prediction_v1.json'"
      ]
     },
     "execution_count": 8,
     "metadata": {},
     "output_type": "execute_result"
    }
   ],
   "source": [
    "config_filename = data_dir + 'one_vdelta_prediction_v1.json'\n",
    "config_filename"
   ]
  },
  {
   "cell_type": "code",
   "execution_count": null,
   "metadata": {},
   "outputs": [],
   "source": [
    "config = dict()\n",
    "config['ticker_column_names'] = input_columns\n",
    "config['global_column_names'] = ['book_mean_return_27', 'sequence_interval_s']\n",
    "config['targets'] = [\n",
    "    {\n",
    "        'source_name' : 'book_volatility_9',\n",
    "        'target_name' : 'book_vdelta_9_target',\n",
    "        'shift' : 9,\n",
    "    },\n",
    "    {\n",
    "        'source_name' : 'book_volatility_27',\n",
    "        'target_name' : 'book_vdelta_27_target',\n",
    "        'shift' : 27,\n",
    "    },\n",
    "    {\n",
    "        'source_name' : 'book_volatility_81',\n",
    "        'target_name' : 'book_vdelta_81_target',\n",
    "        'shift' : 81,\n",
    "    },\n",
    "    {\n",
    "        'source_name' : 'book_volatility_162',\n",
    "        'target_name' : 'book_vdelta_162_target',\n",
    "        'shift' : 162,\n",
    "    },\n",
    "    {\n",
    "        'source_name' : 'book_volatility_324',\n",
    "        'target_name' : 'book_vdelta_324_target',\n",
    "        'shift' : 324,\n",
    "    },\n",
    "    {\n",
    "        'source_name' : 'book_volatility_648',\n",
    "        'target_name' : 'book_vdelta_648_target',\n",
    "        'shift' : 648,\n",
    "    },\n",
    "    {\n",
    "        'source_name' : 'book_volatility_960',\n",
    "        'target_name' : 'book_vdelta_960_target',\n",
    "        'shift' : 960,\n",
    "    },\n",
    "]\n",
    "config['train_pct'] = 0.8\n",
    "config['nn_hidden_size'] = 2048\n",
    "config['learning_rate'] = 0.0000005\n",
    "config['patience'] = 8\n",
    "config['patience_decay'] = 0.8\n",
    "config['threshold'] = 0.0000005\n",
    "config['total_epochs'] = 40\n",
    "config['loader_args'] = {\n",
    "    'batch_size' : 256,\n",
    "    'shuffle' : True,\n",
    "    'num_workers' : 0,\n",
    "}\n",
    "config['score_args'] = {\n",
    "    'batch_size' : 256,\n",
    "    'shuffle' : False,\n",
    "    'num_workers' : 0,\n",
    "}"
   ]
  },
  {
   "cell_type": "code",
   "execution_count": null,
   "metadata": {},
   "outputs": [],
   "source": [
    "with open(config_filename, 'w') as fd:\n",
    "    json.dump(config, fd)"
   ]
  },
  {
   "cell_type": "code",
   "execution_count": null,
   "metadata": {},
   "outputs": [],
   "source": []
  }
 ],
 "metadata": {
  "kernelspec": {
   "display_name": "env",
   "language": "python",
   "name": "python3"
  },
  "language_info": {
   "codemirror_mode": {
    "name": "ipython",
    "version": 3
   },
   "file_extension": ".py",
   "mimetype": "text/x-python",
   "name": "python",
   "nbconvert_exporter": "python",
   "pygments_lexer": "ipython3",
   "version": "3.9.6"
  },
  "orig_nbformat": 4
 },
 "nbformat": 4,
 "nbformat_minor": 2
}
